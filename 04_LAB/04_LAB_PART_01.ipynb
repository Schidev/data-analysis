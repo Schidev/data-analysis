{
 "cells": [
  {
   "cell_type": "markdown",
   "metadata": {},
   "source": [
    "# О работе\n",
    "\n",
    "Эта лабораторная работа направлена на изучение нейронных сетей.\n",
    "\n",
    "Лабораторная состоит из следующих пуунктов:\n",
    "1. Произвести машинный перевод на основании рекуррентных сетей или трансформеров.\n",
    "2. HF Transformers.\n",
    "3. Генерация или стилизация изображений."
   ]
  },
  {
   "cell_type": "markdown",
   "metadata": {},
   "source": [
    "### Необходимые импорты"
   ]
  },
  {
   "cell_type": "code",
   "execution_count": 2,
   "metadata": {},
   "outputs": [
    {
     "name": "stdout",
     "output_type": "stream",
     "text": [
      "Requirement already satisfied: pip in c:\\users\\schif\\appdata\\local\\packages\\pythonsoftwarefoundation.python.3.11_qbz5n2kfra8p0\\localcache\\local-packages\\python311\\site-packages (23.3.2)Note: you may need to restart the kernel to use updated packages.\n",
      "\n"
     ]
    }
   ],
   "source": [
    "%pip install --upgrade pip "
   ]
  },
  {
   "cell_type": "code",
   "execution_count": 3,
   "metadata": {},
   "outputs": [
    {
     "name": "stdout",
     "output_type": "stream",
     "text": [
      "Found existing installation: pandas 2.1.4\n",
      "Uninstalling pandas-2.1.4:\n",
      "  Successfully uninstalled pandas-2.1.4\n",
      "Note: you may need to restart the kernel to use updated packages.\n",
      "Found existing installation: numpy 1.26.2\n",
      "Uninstalling numpy-1.26.2:\n",
      "  Successfully uninstalled numpy-1.26.2\n",
      "Note: you may need to restart the kernel to use updated packages.\n"
     ]
    },
    {
     "name": "stderr",
     "output_type": "stream",
     "text": [
      "WARNING: Failed to remove contents in a temporary directory 'C:\\Users\\schif\\AppData\\Local\\Packages\\PythonSoftwareFoundation.Python.3.11_qbz5n2kfra8p0\\LocalCache\\local-packages\\Python311\\site-packages\\~~mpy.libs'.\n",
      "You can safely remove it manually.\n",
      "WARNING: Failed to remove contents in a temporary directory 'C:\\Users\\schif\\AppData\\Local\\Packages\\PythonSoftwareFoundation.Python.3.11_qbz5n2kfra8p0\\LocalCache\\local-packages\\Python311\\site-packages\\~~mpy'.\n",
      "You can safely remove it manually.\n"
     ]
    },
    {
     "name": "stdout",
     "output_type": "stream",
     "text": [
      "Note: you may need to restart the kernel to use updated packages.\n"
     ]
    },
    {
     "name": "stderr",
     "output_type": "stream",
     "text": [
      "WARNING: Skipping tensorflow as it is not installed.\n"
     ]
    },
    {
     "name": "stdout",
     "output_type": "stream",
     "text": [
      "Found existing installation: keras 3.0.0\n",
      "Uninstalling keras-3.0.0:\n",
      "  Successfully uninstalled keras-3.0.0\n",
      "Note: you may need to restart the kernel to use updated packages.\n"
     ]
    }
   ],
   "source": [
    "%pip uninstall pandas -y\n",
    "%pip uninstall numpy  -y\n",
    "%pip uninstall tensorflow  -y\n",
    "%pip uninstall keras -y"
   ]
  },
  {
   "cell_type": "code",
   "execution_count": 4,
   "metadata": {},
   "outputs": [
    {
     "name": "stdout",
     "output_type": "stream",
     "text": [
      "Collecting pandas\n",
      "  Using cached pandas-2.1.4-cp311-cp311-win_amd64.whl.metadata (18 kB)\n",
      "Collecting numpy<2,>=1.23.2 (from pandas)\n",
      "  Using cached numpy-1.26.2-cp311-cp311-win_amd64.whl.metadata (61 kB)\n",
      "Requirement already satisfied: python-dateutil>=2.8.2 in c:\\users\\schif\\appdata\\local\\packages\\pythonsoftwarefoundation.python.3.11_qbz5n2kfra8p0\\localcache\\local-packages\\python311\\site-packages (from pandas) (2.8.2)\n",
      "Requirement already satisfied: pytz>=2020.1 in c:\\users\\schif\\appdata\\local\\packages\\pythonsoftwarefoundation.python.3.11_qbz5n2kfra8p0\\localcache\\local-packages\\python311\\site-packages (from pandas) (2023.3.post1)\n",
      "Requirement already satisfied: tzdata>=2022.1 in c:\\users\\schif\\appdata\\local\\packages\\pythonsoftwarefoundation.python.3.11_qbz5n2kfra8p0\\localcache\\local-packages\\python311\\site-packages (from pandas) (2023.3)\n",
      "Requirement already satisfied: six>=1.5 in c:\\users\\schif\\appdata\\local\\packages\\pythonsoftwarefoundation.python.3.11_qbz5n2kfra8p0\\localcache\\local-packages\\python311\\site-packages (from python-dateutil>=2.8.2->pandas) (1.16.0)\n",
      "Using cached pandas-2.1.4-cp311-cp311-win_amd64.whl (10.6 MB)\n",
      "Using cached numpy-1.26.2-cp311-cp311-win_amd64.whl (15.8 MB)\n",
      "Installing collected packages: numpy, pandas\n",
      "Successfully installed numpy-1.26.2 pandas-2.1.4\n",
      "Note: you may need to restart the kernel to use updated packages.\n"
     ]
    },
    {
     "name": "stderr",
     "output_type": "stream",
     "text": [
      "ERROR: pip's dependency resolver does not currently take into account all the packages that are installed. This behaviour is the source of the following dependency conflicts.\n",
      "keras-applications 1.0.2 requires keras>=2.1.6, which is not installed.\n",
      "keras-preprocessing 1.0.1 requires keras>=2.1.6, which is not installed.\n",
      "tensorflow-intel 2.15.0 requires keras<2.16,>=2.15.0, which is not installed.\n",
      "tensorflow-intel 2.15.0 requires ml-dtypes~=0.2.0, but you have ml-dtypes 0.3.1 which is incompatible.\n"
     ]
    }
   ],
   "source": [
    "%pip install pandas"
   ]
  },
  {
   "cell_type": "code",
   "execution_count": 5,
   "metadata": {},
   "outputs": [
    {
     "name": "stdout",
     "output_type": "stream",
     "text": [
      "Requirement already satisfied: numpy in c:\\users\\schif\\appdata\\local\\packages\\pythonsoftwarefoundation.python.3.11_qbz5n2kfra8p0\\localcache\\local-packages\\python311\\site-packages (1.26.2)\n",
      "Note: you may need to restart the kernel to use updated packages.\n"
     ]
    }
   ],
   "source": [
    "%pip install numpy"
   ]
  },
  {
   "cell_type": "code",
   "execution_count": 6,
   "metadata": {},
   "outputs": [
    {
     "name": "stdout",
     "output_type": "stream",
     "text": [
      "Note: you may need to restart the kernel to use updated packages.\n"
     ]
    },
    {
     "name": "stderr",
     "output_type": "stream",
     "text": [
      "ERROR: pip's dependency resolver does not currently take into account all the packages that are installed. This behaviour is the source of the following dependency conflicts.\n",
      "tensorflow-intel 2.15.0 requires keras<2.16,>=2.15.0, but you have keras 3.0.0 which is incompatible.\n",
      "tensorflow-intel 2.15.0 requires ml-dtypes~=0.2.0, but you have ml-dtypes 0.3.1 which is incompatible.\n"
     ]
    }
   ],
   "source": [
    "%pip install keras==3.0.0 --upgrade --quiet"
   ]
  },
  {
   "cell_type": "code",
   "execution_count": 7,
   "metadata": {},
   "outputs": [
    {
     "name": "stdout",
     "output_type": "stream",
     "text": [
      "Note: you may need to restart the kernel to use updated packages.\n"
     ]
    },
    {
     "name": "stderr",
     "output_type": "stream",
     "text": [
      "ERROR: Could not find a version that satisfies the requirement tensorflow==2.16 (from versions: 2.12.0rc0, 2.12.0rc1, 2.12.0, 2.12.1, 2.13.0rc0, 2.13.0rc1, 2.13.0rc2, 2.13.0, 2.13.1, 2.14.0rc0, 2.14.0rc1, 2.14.0, 2.14.1, 2.15.0rc0, 2.15.0rc1, 2.15.0)\n",
      "ERROR: No matching distribution found for tensorflow==2.16\n"
     ]
    }
   ],
   "source": [
    "%pip install tensorflow==2.16 --upgrade --quiet"
   ]
  },
  {
   "cell_type": "code",
   "execution_count": null,
   "metadata": {},
   "outputs": [
    {
     "name": "stdout",
     "output_type": "stream",
     "text": [
      "Note: you may need to restart the kernel to use updated packages.\n"
     ]
    },
    {
     "name": "stderr",
     "output_type": "stream",
     "text": [
      "ERROR: Could not find a version that satisfies the requirement random (from versions: none)\n",
      "ERROR: No matching distribution found for random\n"
     ]
    }
   ],
   "source": [
    "%pip install random"
   ]
  },
  {
   "cell_type": "code",
   "execution_count": null,
   "metadata": {},
   "outputs": [
    {
     "name": "stdout",
     "output_type": "stream",
     "text": [
      "Note: you may need to restart the kernel to use updated packages.\n"
     ]
    },
    {
     "name": "stderr",
     "output_type": "stream",
     "text": [
      "ERROR: Could not find a version that satisfies the requirement string (from versions: none)\n",
      "ERROR: No matching distribution found for string\n"
     ]
    }
   ],
   "source": [
    "%pip install string"
   ]
  },
  {
   "cell_type": "code",
   "execution_count": null,
   "metadata": {},
   "outputs": [
    {
     "name": "stdout",
     "output_type": "stream",
     "text": [
      "2.15.0\n",
      "3.0.0\n"
     ]
    }
   ],
   "source": [
    "import random\n",
    "import string\n",
    "import tensorflow as tf\n",
    "import keras\n",
    "print(tf.__version__)\n",
    "print(keras.__version__)\n",
    "\n",
    "from keras import optimizers\n",
    "from keras import layers\n",
    "from keras.layers import TextVectorization\n",
    "import keras.ops as ops\n",
    "\n",
    "import tensorflow.data as tf_data\n",
    "import tensorflow.strings as tf_strings\n",
    "\n",
    "import re"
   ]
  },
  {
   "cell_type": "code",
   "execution_count": 72,
   "metadata": {},
   "outputs": [
    {
     "name": "stdout",
     "output_type": "stream",
     "text": [
      "Collecting transformers\n",
      "  Downloading transformers-4.36.2-py3-none-any.whl.metadata (126 kB)\n",
      "     ---------------------------------------- 0.0/126.8 kB ? eta -:--:--\n",
      "     ---------------------------------------- 0.0/126.8 kB ? eta -:--:--\n",
      "     --- ------------------------------------ 10.2/126.8 kB ? eta -:--:--\n",
      "     -------- ---------------------------- 30.7/126.8 kB 325.1 kB/s eta 0:00:01\n",
      "     ----------------- ------------------- 61.4/126.8 kB 409.6 kB/s eta 0:00:01\n",
      "     ------------------------------------ 126.8/126.8 kB 677.4 kB/s eta 0:00:00\n",
      "Collecting filelock (from transformers)\n",
      "  Downloading filelock-3.13.1-py3-none-any.whl.metadata (2.8 kB)\n",
      "Collecting huggingface-hub<1.0,>=0.19.3 (from transformers)\n",
      "  Downloading huggingface_hub-0.20.1-py3-none-any.whl.metadata (12 kB)\n",
      "Requirement already satisfied: numpy>=1.17 in c:\\users\\schif\\appdata\\local\\packages\\pythonsoftwarefoundation.python.3.11_qbz5n2kfra8p0\\localcache\\local-packages\\python311\\site-packages (from transformers) (1.26.2)\n",
      "Requirement already satisfied: packaging>=20.0 in c:\\users\\schif\\appdata\\local\\packages\\pythonsoftwarefoundation.python.3.11_qbz5n2kfra8p0\\localcache\\local-packages\\python311\\site-packages (from transformers) (23.2)\n",
      "Requirement already satisfied: pyyaml>=5.1 in c:\\users\\schif\\appdata\\local\\packages\\pythonsoftwarefoundation.python.3.11_qbz5n2kfra8p0\\localcache\\local-packages\\python311\\site-packages (from transformers) (6.0.1)\n",
      "Requirement already satisfied: regex!=2019.12.17 in c:\\users\\schif\\appdata\\local\\packages\\pythonsoftwarefoundation.python.3.11_qbz5n2kfra8p0\\localcache\\local-packages\\python311\\site-packages (from transformers) (2023.10.3)\n",
      "Requirement already satisfied: requests in c:\\users\\schif\\appdata\\local\\packages\\pythonsoftwarefoundation.python.3.11_qbz5n2kfra8p0\\localcache\\local-packages\\python311\\site-packages (from transformers) (2.31.0)\n",
      "Collecting tokenizers<0.19,>=0.14 (from transformers)\n",
      "  Downloading tokenizers-0.15.0-cp311-none-win_amd64.whl.metadata (6.8 kB)\n",
      "Collecting safetensors>=0.3.1 (from transformers)\n",
      "  Downloading safetensors-0.4.1-cp311-none-win_amd64.whl.metadata (3.8 kB)\n",
      "Requirement already satisfied: tqdm>=4.27 in c:\\users\\schif\\appdata\\local\\packages\\pythonsoftwarefoundation.python.3.11_qbz5n2kfra8p0\\localcache\\local-packages\\python311\\site-packages (from transformers) (4.66.1)\n",
      "Collecting fsspec>=2023.5.0 (from huggingface-hub<1.0,>=0.19.3->transformers)\n",
      "  Downloading fsspec-2023.12.2-py3-none-any.whl.metadata (6.8 kB)\n",
      "Requirement already satisfied: typing-extensions>=3.7.4.3 in c:\\users\\schif\\appdata\\local\\packages\\pythonsoftwarefoundation.python.3.11_qbz5n2kfra8p0\\localcache\\local-packages\\python311\\site-packages (from huggingface-hub<1.0,>=0.19.3->transformers) (4.9.0)\n",
      "Requirement already satisfied: colorama in c:\\users\\schif\\appdata\\local\\packages\\pythonsoftwarefoundation.python.3.11_qbz5n2kfra8p0\\localcache\\local-packages\\python311\\site-packages (from tqdm>=4.27->transformers) (0.4.6)\n",
      "Requirement already satisfied: charset-normalizer<4,>=2 in c:\\users\\schif\\appdata\\local\\packages\\pythonsoftwarefoundation.python.3.11_qbz5n2kfra8p0\\localcache\\local-packages\\python311\\site-packages (from requests->transformers) (3.3.2)\n",
      "Requirement already satisfied: idna<4,>=2.5 in c:\\users\\schif\\appdata\\local\\packages\\pythonsoftwarefoundation.python.3.11_qbz5n2kfra8p0\\localcache\\local-packages\\python311\\site-packages (from requests->transformers) (3.6)\n",
      "Requirement already satisfied: urllib3<3,>=1.21.1 in c:\\users\\schif\\appdata\\local\\packages\\pythonsoftwarefoundation.python.3.11_qbz5n2kfra8p0\\localcache\\local-packages\\python311\\site-packages (from requests->transformers) (2.1.0)\n",
      "Requirement already satisfied: certifi>=2017.4.17 in c:\\users\\schif\\appdata\\local\\packages\\pythonsoftwarefoundation.python.3.11_qbz5n2kfra8p0\\localcache\\local-packages\\python311\\site-packages (from requests->transformers) (2023.11.17)\n",
      "Downloading transformers-4.36.2-py3-none-any.whl (8.2 MB)\n",
      "   ---------------------------------------- 0.0/8.2 MB ? eta -:--:--\n",
      "    --------------------------------------- 0.1/8.2 MB 3.6 MB/s eta 0:00:03\n",
      "   -- ------------------------------------- 0.5/8.2 MB 5.1 MB/s eta 0:00:02\n",
      "   ---- ----------------------------------- 0.9/8.2 MB 6.1 MB/s eta 0:00:02\n",
      "   ---- ----------------------------------- 0.9/8.2 MB 6.1 MB/s eta 0:00:02\n",
      "   ------ --------------------------------- 1.4/8.2 MB 6.8 MB/s eta 0:00:02\n",
      "   ---------- ----------------------------- 2.1/8.2 MB 8.3 MB/s eta 0:00:01\n",
      "   -------------- ------------------------- 3.0/8.2 MB 9.4 MB/s eta 0:00:01\n",
      "   ---------------- ----------------------- 3.4/8.2 MB 9.5 MB/s eta 0:00:01\n",
      "   ------------------ --------------------- 3.9/8.2 MB 9.5 MB/s eta 0:00:01\n",
      "   --------------------- ------------------ 4.4/8.2 MB 9.7 MB/s eta 0:00:01\n",
      "   ----------------------- ---------------- 4.8/8.2 MB 9.6 MB/s eta 0:00:01\n",
      "   ------------------------ --------------- 5.1/8.2 MB 9.3 MB/s eta 0:00:01\n",
      "   -------------------------- ------------- 5.5/8.2 MB 9.5 MB/s eta 0:00:01\n",
      "   ----------------------------- ---------- 6.0/8.2 MB 9.8 MB/s eta 0:00:01\n",
      "   ------------------------------ --------- 6.3/8.2 MB 9.6 MB/s eta 0:00:01\n",
      "   -------------------------------- ------- 6.7/8.2 MB 9.6 MB/s eta 0:00:01\n",
      "   ----------------------------------- ---- 7.3/8.2 MB 9.7 MB/s eta 0:00:01\n",
      "   ------------------------------------- -- 7.7/8.2 MB 9.8 MB/s eta 0:00:01\n",
      "   ---------------------------------------  8.1/8.2 MB 9.8 MB/s eta 0:00:01\n",
      "   ---------------------------------------  8.2/8.2 MB 9.7 MB/s eta 0:00:01\n",
      "   ---------------------------------------- 8.2/8.2 MB 9.4 MB/s eta 0:00:00\n",
      "Downloading huggingface_hub-0.20.1-py3-none-any.whl (330 kB)\n",
      "   ---------------------------------------- 0.0/330.1 kB ? eta -:--:--\n",
      "   --------------------------------------- 330.1/330.1 kB 21.3 MB/s eta 0:00:00\n",
      "Downloading safetensors-0.4.1-cp311-none-win_amd64.whl (277 kB)\n",
      "   ---------------------------------------- 0.0/277.5 kB ? eta -:--:--\n",
      "   ---------------------------------------- 277.5/277.5 kB 8.6 MB/s eta 0:00:00\n",
      "Downloading tokenizers-0.15.0-cp311-none-win_amd64.whl (2.2 MB)\n",
      "   ---------------------------------------- 0.0/2.2 MB ? eta -:--:--\n",
      "   ------- -------------------------------- 0.4/2.2 MB 11.8 MB/s eta 0:00:01\n",
      "   -------------- ------------------------- 0.8/2.2 MB 12.4 MB/s eta 0:00:01\n",
      "   --------------------- ------------------ 1.2/2.2 MB 10.9 MB/s eta 0:00:01\n",
      "   ----------------------------- ---------- 1.6/2.2 MB 11.5 MB/s eta 0:00:01\n",
      "   ------------------------------------- -- 2.1/2.2 MB 10.9 MB/s eta 0:00:01\n",
      "   ---------------------------------------- 2.2/2.2 MB 9.3 MB/s eta 0:00:00\n",
      "Downloading filelock-3.13.1-py3-none-any.whl (11 kB)\n",
      "Downloading fsspec-2023.12.2-py3-none-any.whl (168 kB)\n",
      "   ---------------------------------------- 0.0/169.0 kB ? eta -:--:--\n",
      "   ---------------------------------------- 169.0/169.0 kB 9.9 MB/s eta 0:00:00\n",
      "Installing collected packages: safetensors, fsspec, filelock, huggingface-hub, tokenizers, transformers\n",
      "Successfully installed filelock-3.13.1 fsspec-2023.12.2 huggingface-hub-0.20.1 safetensors-0.4.1 tokenizers-0.15.0 transformers-4.36.2\n",
      "Note: you may need to restart the kernel to use updated packages.\n"
     ]
    }
   ],
   "source": [
    "%pip install transformers"
   ]
  },
  {
   "cell_type": "code",
   "execution_count": 75,
   "metadata": {},
   "outputs": [
    {
     "name": "stdout",
     "output_type": "stream",
     "text": [
      "Collecting tf-nightly\n",
      "  Downloading tf_nightly-2.16.0.dev20231229-cp311-cp311-win_amd64.whl.metadata (3.5 kB)\n",
      "INFO: pip is looking at multiple versions of tf-nightly to determine which version is compatible with other requirements. This could take a while.\n",
      "  Downloading tf_nightly-2.16.0.dev20231228-cp311-cp311-win_amd64.whl.metadata (3.5 kB)\n",
      "  Downloading tf_nightly-2.16.0.dev20231227-cp311-cp311-win_amd64.whl.metadata (3.5 kB)\n",
      "Collecting tf-nightly-intel==2.16.0-dev20231227 (from tf-nightly)\n",
      "  Downloading tf_nightly_intel-2.16.0.dev20231227-cp311-cp311-win_amd64.whl.metadata (4.2 kB)\n",
      "Requirement already satisfied: absl-py>=1.0.0 in c:\\users\\schif\\appdata\\local\\packages\\pythonsoftwarefoundation.python.3.11_qbz5n2kfra8p0\\localcache\\local-packages\\python311\\site-packages (from tf-nightly-intel==2.16.0-dev20231227->tf-nightly) (2.0.0)\n",
      "Requirement already satisfied: astunparse>=1.6.0 in c:\\users\\schif\\appdata\\local\\packages\\pythonsoftwarefoundation.python.3.11_qbz5n2kfra8p0\\localcache\\local-packages\\python311\\site-packages (from tf-nightly-intel==2.16.0-dev20231227->tf-nightly) (1.6.3)\n",
      "Requirement already satisfied: flatbuffers>=23.5.26 in c:\\users\\schif\\appdata\\local\\packages\\pythonsoftwarefoundation.python.3.11_qbz5n2kfra8p0\\localcache\\local-packages\\python311\\site-packages (from tf-nightly-intel==2.16.0-dev20231227->tf-nightly) (23.5.26)\n",
      "Requirement already satisfied: gast!=0.5.0,!=0.5.1,!=0.5.2,>=0.2.1 in c:\\users\\schif\\appdata\\local\\packages\\pythonsoftwarefoundation.python.3.11_qbz5n2kfra8p0\\localcache\\local-packages\\python311\\site-packages (from tf-nightly-intel==2.16.0-dev20231227->tf-nightly) (0.5.4)\n",
      "Requirement already satisfied: google-pasta>=0.1.1 in c:\\users\\schif\\appdata\\local\\packages\\pythonsoftwarefoundation.python.3.11_qbz5n2kfra8p0\\localcache\\local-packages\\python311\\site-packages (from tf-nightly-intel==2.16.0-dev20231227->tf-nightly) (0.2.0)\n",
      "Requirement already satisfied: h5py>=3.10.0 in c:\\users\\schif\\appdata\\local\\packages\\pythonsoftwarefoundation.python.3.11_qbz5n2kfra8p0\\localcache\\local-packages\\python311\\site-packages (from tf-nightly-intel==2.16.0-dev20231227->tf-nightly) (3.10.0)\n",
      "Requirement already satisfied: libclang>=13.0.0 in c:\\users\\schif\\appdata\\local\\packages\\pythonsoftwarefoundation.python.3.11_qbz5n2kfra8p0\\localcache\\local-packages\\python311\\site-packages (from tf-nightly-intel==2.16.0-dev20231227->tf-nightly) (16.0.6)\n",
      "Collecting ml-dtypes~=0.3.1 (from tf-nightly-intel==2.16.0-dev20231227->tf-nightly)\n",
      "  Downloading ml_dtypes-0.3.1-cp311-cp311-win_amd64.whl.metadata (20 kB)\n",
      "Requirement already satisfied: opt-einsum>=2.3.2 in c:\\users\\schif\\appdata\\local\\packages\\pythonsoftwarefoundation.python.3.11_qbz5n2kfra8p0\\localcache\\local-packages\\python311\\site-packages (from tf-nightly-intel==2.16.0-dev20231227->tf-nightly) (3.3.0)\n",
      "Requirement already satisfied: packaging in c:\\users\\schif\\appdata\\local\\packages\\pythonsoftwarefoundation.python.3.11_qbz5n2kfra8p0\\localcache\\local-packages\\python311\\site-packages (from tf-nightly-intel==2.16.0-dev20231227->tf-nightly) (23.2)\n",
      "Requirement already satisfied: protobuf!=4.21.0,!=4.21.1,!=4.21.2,!=4.21.3,!=4.21.4,!=4.21.5,<5.0.0dev,>=3.20.3 in c:\\users\\schif\\appdata\\local\\packages\\pythonsoftwarefoundation.python.3.11_qbz5n2kfra8p0\\localcache\\local-packages\\python311\\site-packages (from tf-nightly-intel==2.16.0-dev20231227->tf-nightly) (4.23.4)\n",
      "Requirement already satisfied: setuptools in c:\\users\\schif\\appdata\\local\\packages\\pythonsoftwarefoundation.python.3.11_qbz5n2kfra8p0\\localcache\\local-packages\\python311\\site-packages (from tf-nightly-intel==2.16.0-dev20231227->tf-nightly) (69.0.3)\n",
      "Requirement already satisfied: six>=1.12.0 in c:\\users\\schif\\appdata\\local\\packages\\pythonsoftwarefoundation.python.3.11_qbz5n2kfra8p0\\localcache\\local-packages\\python311\\site-packages (from tf-nightly-intel==2.16.0-dev20231227->tf-nightly) (1.16.0)\n",
      "Requirement already satisfied: termcolor>=1.1.0 in c:\\users\\schif\\appdata\\local\\packages\\pythonsoftwarefoundation.python.3.11_qbz5n2kfra8p0\\localcache\\local-packages\\python311\\site-packages (from tf-nightly-intel==2.16.0-dev20231227->tf-nightly) (2.4.0)\n",
      "Requirement already satisfied: typing-extensions>=3.6.6 in c:\\users\\schif\\appdata\\local\\packages\\pythonsoftwarefoundation.python.3.11_qbz5n2kfra8p0\\localcache\\local-packages\\python311\\site-packages (from tf-nightly-intel==2.16.0-dev20231227->tf-nightly) (4.9.0)\n",
      "Requirement already satisfied: wrapt<1.15,>=1.11.0 in c:\\users\\schif\\appdata\\local\\packages\\pythonsoftwarefoundation.python.3.11_qbz5n2kfra8p0\\localcache\\local-packages\\python311\\site-packages (from tf-nightly-intel==2.16.0-dev20231227->tf-nightly) (1.14.1)\n",
      "Requirement already satisfied: grpcio<2.0,>=1.24.3 in c:\\users\\schif\\appdata\\local\\packages\\pythonsoftwarefoundation.python.3.11_qbz5n2kfra8p0\\localcache\\local-packages\\python311\\site-packages (from tf-nightly-intel==2.16.0-dev20231227->tf-nightly) (1.60.0)\n",
      "Collecting tb-nightly~=2.16.0.a (from tf-nightly-intel==2.16.0-dev20231227->tf-nightly)\n",
      "  Downloading tb_nightly-2.16.0a20231229-py3-none-any.whl.metadata (1.8 kB)\n",
      "Collecting tf-estimator-nightly~=2.14.0.dev (from tf-nightly-intel==2.16.0-dev20231227->tf-nightly)\n",
      "  Downloading tf_estimator_nightly-2.14.0.dev2023080308-py2.py3-none-any.whl.metadata (1.3 kB)\n",
      "Collecting keras-nightly~=3.0.0.dev (from tf-nightly-intel==2.16.0-dev20231227->tf-nightly)\n",
      "  Downloading keras_nightly-3.0.3.dev2023122903-py3-none-any.whl.metadata (4.8 kB)\n",
      "Requirement already satisfied: tensorflow-io-gcs-filesystem>=0.23.1 in c:\\users\\schif\\appdata\\local\\packages\\pythonsoftwarefoundation.python.3.11_qbz5n2kfra8p0\\localcache\\local-packages\\python311\\site-packages (from tf-nightly-intel==2.16.0-dev20231227->tf-nightly) (0.31.0)\n",
      "Requirement already satisfied: numpy<2.0.0,>=1.23.5 in c:\\users\\schif\\appdata\\local\\packages\\pythonsoftwarefoundation.python.3.11_qbz5n2kfra8p0\\localcache\\local-packages\\python311\\site-packages (from tf-nightly-intel==2.16.0-dev20231227->tf-nightly) (1.26.2)\n",
      "Requirement already satisfied: wheel<1.0,>=0.23.0 in c:\\users\\schif\\appdata\\local\\packages\\pythonsoftwarefoundation.python.3.11_qbz5n2kfra8p0\\localcache\\local-packages\\python311\\site-packages (from astunparse>=1.6.0->tf-nightly-intel==2.16.0-dev20231227->tf-nightly) (0.42.0)\n",
      "Requirement already satisfied: rich in c:\\users\\schif\\appdata\\local\\packages\\pythonsoftwarefoundation.python.3.11_qbz5n2kfra8p0\\localcache\\local-packages\\python311\\site-packages (from keras-nightly~=3.0.0.dev->tf-nightly-intel==2.16.0-dev20231227->tf-nightly) (13.7.0)\n",
      "Requirement already satisfied: namex in c:\\users\\schif\\appdata\\local\\packages\\pythonsoftwarefoundation.python.3.11_qbz5n2kfra8p0\\localcache\\local-packages\\python311\\site-packages (from keras-nightly~=3.0.0.dev->tf-nightly-intel==2.16.0-dev20231227->tf-nightly) (0.0.7)\n",
      "Requirement already satisfied: dm-tree in c:\\users\\schif\\appdata\\local\\packages\\pythonsoftwarefoundation.python.3.11_qbz5n2kfra8p0\\localcache\\local-packages\\python311\\site-packages (from keras-nightly~=3.0.0.dev->tf-nightly-intel==2.16.0-dev20231227->tf-nightly) (0.1.8)\n",
      "Requirement already satisfied: google-auth<3,>=1.6.3 in c:\\users\\schif\\appdata\\local\\packages\\pythonsoftwarefoundation.python.3.11_qbz5n2kfra8p0\\localcache\\local-packages\\python311\\site-packages (from tb-nightly~=2.16.0.a->tf-nightly-intel==2.16.0-dev20231227->tf-nightly) (2.25.2)\n",
      "Requirement already satisfied: google-auth-oauthlib<2,>=0.5 in c:\\users\\schif\\appdata\\local\\packages\\pythonsoftwarefoundation.python.3.11_qbz5n2kfra8p0\\localcache\\local-packages\\python311\\site-packages (from tb-nightly~=2.16.0.a->tf-nightly-intel==2.16.0-dev20231227->tf-nightly) (1.2.0)\n",
      "Requirement already satisfied: markdown>=2.6.8 in c:\\users\\schif\\appdata\\local\\packages\\pythonsoftwarefoundation.python.3.11_qbz5n2kfra8p0\\localcache\\local-packages\\python311\\site-packages (from tb-nightly~=2.16.0.a->tf-nightly-intel==2.16.0-dev20231227->tf-nightly) (3.5.1)\n",
      "Requirement already satisfied: requests<3,>=2.21.0 in c:\\users\\schif\\appdata\\local\\packages\\pythonsoftwarefoundation.python.3.11_qbz5n2kfra8p0\\localcache\\local-packages\\python311\\site-packages (from tb-nightly~=2.16.0.a->tf-nightly-intel==2.16.0-dev20231227->tf-nightly) (2.31.0)\n",
      "Requirement already satisfied: tensorboard-data-server<0.8.0,>=0.7.0 in c:\\users\\schif\\appdata\\local\\packages\\pythonsoftwarefoundation.python.3.11_qbz5n2kfra8p0\\localcache\\local-packages\\python311\\site-packages (from tb-nightly~=2.16.0.a->tf-nightly-intel==2.16.0-dev20231227->tf-nightly) (0.7.2)\n",
      "Collecting tf-keras-nightly (from tb-nightly~=2.16.0.a->tf-nightly-intel==2.16.0-dev20231227->tf-nightly)\n",
      "  Downloading tf_keras_nightly-2.16.0.dev2023122910-py3-none-any.whl.metadata (1.5 kB)\n",
      "Requirement already satisfied: werkzeug>=1.0.1 in c:\\users\\schif\\appdata\\local\\packages\\pythonsoftwarefoundation.python.3.11_qbz5n2kfra8p0\\localcache\\local-packages\\python311\\site-packages (from tb-nightly~=2.16.0.a->tf-nightly-intel==2.16.0-dev20231227->tf-nightly) (3.0.1)\n",
      "Requirement already satisfied: cachetools<6.0,>=2.0.0 in c:\\users\\schif\\appdata\\local\\packages\\pythonsoftwarefoundation.python.3.11_qbz5n2kfra8p0\\localcache\\local-packages\\python311\\site-packages (from google-auth<3,>=1.6.3->tb-nightly~=2.16.0.a->tf-nightly-intel==2.16.0-dev20231227->tf-nightly) (5.3.2)\n",
      "Requirement already satisfied: pyasn1-modules>=0.2.1 in c:\\users\\schif\\appdata\\local\\packages\\pythonsoftwarefoundation.python.3.11_qbz5n2kfra8p0\\localcache\\local-packages\\python311\\site-packages (from google-auth<3,>=1.6.3->tb-nightly~=2.16.0.a->tf-nightly-intel==2.16.0-dev20231227->tf-nightly) (0.3.0)\n",
      "Requirement already satisfied: rsa<5,>=3.1.4 in c:\\users\\schif\\appdata\\local\\packages\\pythonsoftwarefoundation.python.3.11_qbz5n2kfra8p0\\localcache\\local-packages\\python311\\site-packages (from google-auth<3,>=1.6.3->tb-nightly~=2.16.0.a->tf-nightly-intel==2.16.0-dev20231227->tf-nightly) (4.9)\n",
      "Requirement already satisfied: requests-oauthlib>=0.7.0 in c:\\users\\schif\\appdata\\local\\packages\\pythonsoftwarefoundation.python.3.11_qbz5n2kfra8p0\\localcache\\local-packages\\python311\\site-packages (from google-auth-oauthlib<2,>=0.5->tb-nightly~=2.16.0.a->tf-nightly-intel==2.16.0-dev20231227->tf-nightly) (1.3.1)\n",
      "Requirement already satisfied: charset-normalizer<4,>=2 in c:\\users\\schif\\appdata\\local\\packages\\pythonsoftwarefoundation.python.3.11_qbz5n2kfra8p0\\localcache\\local-packages\\python311\\site-packages (from requests<3,>=2.21.0->tb-nightly~=2.16.0.a->tf-nightly-intel==2.16.0-dev20231227->tf-nightly) (3.3.2)\n",
      "Requirement already satisfied: idna<4,>=2.5 in c:\\users\\schif\\appdata\\local\\packages\\pythonsoftwarefoundation.python.3.11_qbz5n2kfra8p0\\localcache\\local-packages\\python311\\site-packages (from requests<3,>=2.21.0->tb-nightly~=2.16.0.a->tf-nightly-intel==2.16.0-dev20231227->tf-nightly) (3.6)\n",
      "Requirement already satisfied: urllib3<3,>=1.21.1 in c:\\users\\schif\\appdata\\local\\packages\\pythonsoftwarefoundation.python.3.11_qbz5n2kfra8p0\\localcache\\local-packages\\python311\\site-packages (from requests<3,>=2.21.0->tb-nightly~=2.16.0.a->tf-nightly-intel==2.16.0-dev20231227->tf-nightly) (2.1.0)\n",
      "Requirement already satisfied: certifi>=2017.4.17 in c:\\users\\schif\\appdata\\local\\packages\\pythonsoftwarefoundation.python.3.11_qbz5n2kfra8p0\\localcache\\local-packages\\python311\\site-packages (from requests<3,>=2.21.0->tb-nightly~=2.16.0.a->tf-nightly-intel==2.16.0-dev20231227->tf-nightly) (2023.11.17)\n",
      "Requirement already satisfied: MarkupSafe>=2.1.1 in c:\\users\\schif\\appdata\\local\\packages\\pythonsoftwarefoundation.python.3.11_qbz5n2kfra8p0\\localcache\\local-packages\\python311\\site-packages (from werkzeug>=1.0.1->tb-nightly~=2.16.0.a->tf-nightly-intel==2.16.0-dev20231227->tf-nightly) (2.1.3)\n",
      "Requirement already satisfied: markdown-it-py>=2.2.0 in c:\\users\\schif\\appdata\\local\\packages\\pythonsoftwarefoundation.python.3.11_qbz5n2kfra8p0\\localcache\\local-packages\\python311\\site-packages (from rich->keras-nightly~=3.0.0.dev->tf-nightly-intel==2.16.0-dev20231227->tf-nightly) (3.0.0)\n",
      "Requirement already satisfied: pygments<3.0.0,>=2.13.0 in c:\\users\\schif\\appdata\\local\\packages\\pythonsoftwarefoundation.python.3.11_qbz5n2kfra8p0\\localcache\\local-packages\\python311\\site-packages (from rich->keras-nightly~=3.0.0.dev->tf-nightly-intel==2.16.0-dev20231227->tf-nightly) (2.17.2)\n",
      "Requirement already satisfied: mdurl~=0.1 in c:\\users\\schif\\appdata\\local\\packages\\pythonsoftwarefoundation.python.3.11_qbz5n2kfra8p0\\localcache\\local-packages\\python311\\site-packages (from markdown-it-py>=2.2.0->rich->keras-nightly~=3.0.0.dev->tf-nightly-intel==2.16.0-dev20231227->tf-nightly) (0.1.2)\n",
      "Requirement already satisfied: pyasn1<0.6.0,>=0.4.6 in c:\\users\\schif\\appdata\\local\\packages\\pythonsoftwarefoundation.python.3.11_qbz5n2kfra8p0\\localcache\\local-packages\\python311\\site-packages (from pyasn1-modules>=0.2.1->google-auth<3,>=1.6.3->tb-nightly~=2.16.0.a->tf-nightly-intel==2.16.0-dev20231227->tf-nightly) (0.5.1)\n",
      "Requirement already satisfied: oauthlib>=3.0.0 in c:\\users\\schif\\appdata\\local\\packages\\pythonsoftwarefoundation.python.3.11_qbz5n2kfra8p0\\localcache\\local-packages\\python311\\site-packages (from requests-oauthlib>=0.7.0->google-auth-oauthlib<2,>=0.5->tb-nightly~=2.16.0.a->tf-nightly-intel==2.16.0-dev20231227->tf-nightly) (3.2.2)\n",
      "Downloading tf_nightly-2.16.0.dev20231227-cp311-cp311-win_amd64.whl (2.2 kB)\n",
      "Downloading tf_nightly_intel-2.16.0.dev20231227-cp311-cp311-win_amd64.whl (191.7 MB)\n",
      "   ---------------------------------------- 0.0/191.7 MB ? eta -:--:--\n",
      "   ---------------------------------------- 0.1/191.7 MB 1.6 MB/s eta 0:02:00\n",
      "   ---------------------------------------- 0.2/191.7 MB 2.8 MB/s eta 0:01:10\n",
      "   ---------------------------------------- 0.4/191.7 MB 3.2 MB/s eta 0:01:00\n",
      "   ---------------------------------------- 0.9/191.7 MB 4.9 MB/s eta 0:00:39\n",
      "   ---------------------------------------- 1.0/191.7 MB 5.5 MB/s eta 0:00:35\n",
      "   ---------------------------------------- 1.2/191.7 MB 5.0 MB/s eta 0:00:39\n",
      "   ---------------------------------------- 1.7/191.7 MB 5.3 MB/s eta 0:00:37\n",
      "   ---------------------------------------- 2.3/191.7 MB 6.0 MB/s eta 0:00:32\n",
      "    --------------------------------------- 2.6/191.7 MB 6.3 MB/s eta 0:00:30\n",
      "    --------------------------------------- 2.6/191.7 MB 6.4 MB/s eta 0:00:30\n",
      "    --------------------------------------- 3.4/191.7 MB 7.3 MB/s eta 0:00:26\n",
      "    --------------------------------------- 4.0/191.7 MB 7.7 MB/s eta 0:00:25\n",
      "    --------------------------------------- 4.4/191.7 MB 7.9 MB/s eta 0:00:24\n",
      "   - -------------------------------------- 5.0/191.7 MB 8.2 MB/s eta 0:00:23\n",
      "   - -------------------------------------- 5.6/191.7 MB 8.5 MB/s eta 0:00:22\n",
      "   - -------------------------------------- 6.1/191.7 MB 8.7 MB/s eta 0:00:22\n",
      "   - -------------------------------------- 6.3/191.7 MB 8.7 MB/s eta 0:00:22\n",
      "   - -------------------------------------- 6.5/191.7 MB 8.2 MB/s eta 0:00:23\n",
      "   - -------------------------------------- 6.8/191.7 MB 8.3 MB/s eta 0:00:23\n",
      "   - -------------------------------------- 7.4/191.7 MB 8.3 MB/s eta 0:00:23\n",
      "   - -------------------------------------- 7.9/191.7 MB 8.4 MB/s eta 0:00:22\n",
      "   - -------------------------------------- 8.4/191.7 MB 8.5 MB/s eta 0:00:22\n",
      "   - -------------------------------------- 8.4/191.7 MB 8.1 MB/s eta 0:00:23\n",
      "   - -------------------------------------- 9.0/191.7 MB 8.3 MB/s eta 0:00:22\n",
      "   - -------------------------------------- 9.4/191.7 MB 8.3 MB/s eta 0:00:23\n",
      "   - -------------------------------------- 9.4/191.7 MB 8.3 MB/s eta 0:00:23\n",
      "   -- ------------------------------------- 10.0/191.7 MB 8.1 MB/s eta 0:00:23\n",
      "   -- ------------------------------------- 10.4/191.7 MB 8.5 MB/s eta 0:00:22\n",
      "   -- ------------------------------------- 10.8/191.7 MB 8.8 MB/s eta 0:00:21\n",
      "   -- ------------------------------------- 11.2/191.7 MB 8.8 MB/s eta 0:00:21\n",
      "   -- ------------------------------------- 11.6/191.7 MB 9.4 MB/s eta 0:00:20\n",
      "   -- ------------------------------------- 12.1/191.7 MB 9.2 MB/s eta 0:00:20\n",
      "   -- ------------------------------------- 12.4/191.7 MB 9.2 MB/s eta 0:00:20\n",
      "   -- ------------------------------------- 12.8/191.7 MB 9.2 MB/s eta 0:00:20\n",
      "   -- ------------------------------------- 13.2/191.7 MB 9.5 MB/s eta 0:00:19\n",
      "   -- ------------------------------------- 13.3/191.7 MB 9.2 MB/s eta 0:00:20\n",
      "   -- ------------------------------------- 13.9/191.7 MB 9.0 MB/s eta 0:00:20\n",
      "   -- ------------------------------------- 14.3/191.7 MB 8.7 MB/s eta 0:00:21\n",
      "   --- ------------------------------------ 14.4/191.7 MB 8.6 MB/s eta 0:00:21\n",
      "   --- ------------------------------------ 14.7/191.7 MB 8.4 MB/s eta 0:00:22\n",
      "   --- ------------------------------------ 15.1/191.7 MB 8.3 MB/s eta 0:00:22\n",
      "   --- ------------------------------------ 15.5/191.7 MB 8.2 MB/s eta 0:00:22\n",
      "   --- ------------------------------------ 15.8/191.7 MB 8.1 MB/s eta 0:00:22\n",
      "   --- ------------------------------------ 16.2/191.7 MB 8.0 MB/s eta 0:00:22\n",
      "   --- ------------------------------------ 16.6/191.7 MB 8.3 MB/s eta 0:00:22\n",
      "   --- ------------------------------------ 17.0/191.7 MB 8.2 MB/s eta 0:00:22\n",
      "   --- ------------------------------------ 17.3/191.7 MB 8.2 MB/s eta 0:00:22\n",
      "   --- ------------------------------------ 17.7/191.7 MB 8.2 MB/s eta 0:00:22\n",
      "   --- ------------------------------------ 18.1/191.7 MB 8.1 MB/s eta 0:00:22\n",
      "   --- ------------------------------------ 18.4/191.7 MB 8.0 MB/s eta 0:00:22\n",
      "   --- ------------------------------------ 18.8/191.7 MB 8.2 MB/s eta 0:00:22\n",
      "   --- ------------------------------------ 19.1/191.7 MB 8.1 MB/s eta 0:00:22\n",
      "   ---- ----------------------------------- 19.5/191.7 MB 8.1 MB/s eta 0:00:22\n",
      "   ---- ----------------------------------- 19.9/191.7 MB 8.3 MB/s eta 0:00:21\n",
      "   ---- ----------------------------------- 20.3/191.7 MB 8.3 MB/s eta 0:00:21\n",
      "   ---- ----------------------------------- 20.7/191.7 MB 8.2 MB/s eta 0:00:21\n",
      "   ---- ----------------------------------- 21.1/191.7 MB 8.3 MB/s eta 0:00:21\n",
      "   ---- ----------------------------------- 21.4/191.7 MB 8.1 MB/s eta 0:00:22\n",
      "   ---- ----------------------------------- 21.7/191.7 MB 8.0 MB/s eta 0:00:22\n",
      "   ---- ----------------------------------- 22.0/191.7 MB 8.1 MB/s eta 0:00:22\n",
      "   ---- ----------------------------------- 22.5/191.7 MB 7.9 MB/s eta 0:00:22\n",
      "   ---- ----------------------------------- 22.9/191.7 MB 7.9 MB/s eta 0:00:22\n",
      "   ---- ----------------------------------- 23.3/191.7 MB 7.9 MB/s eta 0:00:22\n",
      "   ---- ----------------------------------- 23.8/191.7 MB 8.0 MB/s eta 0:00:22\n",
      "   ----- ---------------------------------- 24.1/191.7 MB 7.9 MB/s eta 0:00:22\n",
      "   ----- ---------------------------------- 24.5/191.7 MB 7.9 MB/s eta 0:00:22\n",
      "   ----- ---------------------------------- 24.9/191.7 MB 8.2 MB/s eta 0:00:21\n",
      "   ----- ---------------------------------- 25.3/191.7 MB 8.2 MB/s eta 0:00:21\n",
      "   ----- ---------------------------------- 25.7/191.7 MB 8.2 MB/s eta 0:00:21\n",
      "   ----- ---------------------------------- 26.1/191.7 MB 8.3 MB/s eta 0:00:20\n",
      "   ----- ---------------------------------- 26.4/191.7 MB 8.3 MB/s eta 0:00:20\n",
      "   ----- ---------------------------------- 26.9/191.7 MB 8.3 MB/s eta 0:00:20\n",
      "   ----- ---------------------------------- 27.3/191.7 MB 8.4 MB/s eta 0:00:20\n",
      "   ----- ---------------------------------- 27.7/191.7 MB 8.3 MB/s eta 0:00:20\n",
      "   ----- ---------------------------------- 28.1/191.7 MB 8.3 MB/s eta 0:00:20\n",
      "   ----- ---------------------------------- 28.3/191.7 MB 8.4 MB/s eta 0:00:20\n",
      "   ----- ---------------------------------- 28.3/191.7 MB 8.4 MB/s eta 0:00:20\n",
      "   ----- ---------------------------------- 28.3/191.7 MB 8.4 MB/s eta 0:00:20\n",
      "   ----- ---------------------------------- 28.3/191.7 MB 8.4 MB/s eta 0:00:20\n",
      "   ----- ---------------------------------- 28.4/191.7 MB 7.0 MB/s eta 0:00:24\n",
      "   ----- ---------------------------------- 28.7/191.7 MB 7.0 MB/s eta 0:00:24\n",
      "   ------ --------------------------------- 28.8/191.7 MB 7.0 MB/s eta 0:00:24\n",
      "   ------ --------------------------------- 29.3/191.7 MB 7.0 MB/s eta 0:00:24\n",
      "   ------ --------------------------------- 29.5/191.7 MB 6.9 MB/s eta 0:00:24\n",
      "   ------ --------------------------------- 29.9/191.7 MB 6.9 MB/s eta 0:00:24\n",
      "   ------ --------------------------------- 30.2/191.7 MB 6.8 MB/s eta 0:00:24\n",
      "   ------ --------------------------------- 30.5/191.7 MB 6.8 MB/s eta 0:00:24\n",
      "   ------ --------------------------------- 30.8/191.7 MB 6.7 MB/s eta 0:00:24\n",
      "   ------ --------------------------------- 31.1/191.7 MB 6.7 MB/s eta 0:00:25\n",
      "   ------ --------------------------------- 31.3/191.7 MB 6.6 MB/s eta 0:00:25\n",
      "   ------ --------------------------------- 31.5/191.7 MB 6.6 MB/s eta 0:00:25\n",
      "   ------ --------------------------------- 31.5/191.7 MB 6.6 MB/s eta 0:00:25\n",
      "   ------ --------------------------------- 31.5/191.7 MB 6.6 MB/s eta 0:00:25\n",
      "   ------ --------------------------------- 31.5/191.7 MB 6.6 MB/s eta 0:00:25\n",
      "   ------ --------------------------------- 31.5/191.7 MB 6.6 MB/s eta 0:00:25\n",
      "   ------ --------------------------------- 31.8/191.7 MB 5.8 MB/s eta 0:00:28\n",
      "   ------ --------------------------------- 32.1/191.7 MB 5.8 MB/s eta 0:00:28\n",
      "   ------ --------------------------------- 32.4/191.7 MB 5.7 MB/s eta 0:00:28\n",
      "   ------ --------------------------------- 32.5/191.7 MB 5.7 MB/s eta 0:00:28\n",
      "   ------ --------------------------------- 32.5/191.7 MB 5.7 MB/s eta 0:00:28\n",
      "   ------ --------------------------------- 32.5/191.7 MB 5.7 MB/s eta 0:00:28\n",
      "   ------ --------------------------------- 32.5/191.7 MB 5.7 MB/s eta 0:00:28\n",
      "   ------ --------------------------------- 32.5/191.7 MB 5.7 MB/s eta 0:00:28\n",
      "   ------ --------------------------------- 32.7/191.7 MB 5.1 MB/s eta 0:00:32\n",
      "   ------ --------------------------------- 33.1/191.7 MB 5.1 MB/s eta 0:00:32\n",
      "   ------ --------------------------------- 33.4/191.7 MB 5.0 MB/s eta 0:00:32\n",
      "   ------- -------------------------------- 33.7/191.7 MB 5.0 MB/s eta 0:00:32\n",
      "   ------- -------------------------------- 33.9/191.7 MB 5.0 MB/s eta 0:00:32\n",
      "   ------- -------------------------------- 34.3/191.7 MB 5.0 MB/s eta 0:00:32\n",
      "   ------- -------------------------------- 34.6/191.7 MB 5.0 MB/s eta 0:00:32\n",
      "   ------- -------------------------------- 34.9/191.7 MB 5.0 MB/s eta 0:00:32\n",
      "   ------- -------------------------------- 35.2/191.7 MB 5.0 MB/s eta 0:00:32\n",
      "   ------- -------------------------------- 35.5/191.7 MB 5.0 MB/s eta 0:00:32\n",
      "   ------- -------------------------------- 35.9/191.7 MB 4.9 MB/s eta 0:00:32\n",
      "   ------- -------------------------------- 36.2/191.7 MB 4.9 MB/s eta 0:00:32\n",
      "   ------- -------------------------------- 36.5/191.7 MB 4.9 MB/s eta 0:00:32\n",
      "   ------- -------------------------------- 36.7/191.7 MB 4.9 MB/s eta 0:00:32\n",
      "   ------- -------------------------------- 36.7/191.7 MB 4.9 MB/s eta 0:00:32\n",
      "   ------- -------------------------------- 36.7/191.7 MB 4.9 MB/s eta 0:00:32\n",
      "   ------- -------------------------------- 36.7/191.7 MB 4.9 MB/s eta 0:00:32\n",
      "   ------- -------------------------------- 36.7/191.7 MB 4.9 MB/s eta 0:00:32\n",
      "   ------- -------------------------------- 36.7/191.7 MB 4.9 MB/s eta 0:00:32\n",
      "   ------- -------------------------------- 36.7/191.7 MB 4.9 MB/s eta 0:00:32\n",
      "   ------- -------------------------------- 36.7/191.7 MB 4.9 MB/s eta 0:00:32\n",
      "   ------- -------------------------------- 36.7/191.7 MB 4.9 MB/s eta 0:00:32\n",
      "   ------- -------------------------------- 36.7/191.7 MB 4.9 MB/s eta 0:00:32\n",
      "   ------- -------------------------------- 37.0/191.7 MB 4.0 MB/s eta 0:00:39\n",
      "   ------- -------------------------------- 37.3/191.7 MB 4.1 MB/s eta 0:00:38\n",
      "   ------- -------------------------------- 37.6/191.7 MB 4.0 MB/s eta 0:00:39\n",
      "   ------- -------------------------------- 37.7/191.7 MB 4.0 MB/s eta 0:00:39\n",
      "   ------- -------------------------------- 37.8/191.7 MB 3.9 MB/s eta 0:00:40\n",
      "   ------- -------------------------------- 38.1/191.7 MB 3.9 MB/s eta 0:00:40\n",
      "   -------- ------------------------------- 38.4/191.7 MB 3.9 MB/s eta 0:00:39\n",
      "   -------- ------------------------------- 38.7/191.7 MB 4.3 MB/s eta 0:00:36\n",
      "   -------- ------------------------------- 39.0/191.7 MB 4.3 MB/s eta 0:00:36\n",
      "   -------- ------------------------------- 39.5/191.7 MB 4.3 MB/s eta 0:00:36\n",
      "   -------- ------------------------------- 39.8/191.7 MB 4.3 MB/s eta 0:00:36\n",
      "   -------- ------------------------------- 40.1/191.7 MB 4.3 MB/s eta 0:00:36\n",
      "   -------- ------------------------------- 40.4/191.7 MB 4.3 MB/s eta 0:00:36\n",
      "   -------- ------------------------------- 40.6/191.7 MB 4.3 MB/s eta 0:00:36\n",
      "   -------- ------------------------------- 41.0/191.7 MB 4.3 MB/s eta 0:00:35\n",
      "   -------- ------------------------------- 41.3/191.7 MB 4.3 MB/s eta 0:00:35\n",
      "   -------- ------------------------------- 41.6/191.7 MB 4.3 MB/s eta 0:00:35\n",
      "   -------- ------------------------------- 41.8/191.7 MB 4.7 MB/s eta 0:00:32\n",
      "   -------- ------------------------------- 42.0/191.7 MB 4.7 MB/s eta 0:00:33\n",
      "   -------- ------------------------------- 42.3/191.7 MB 4.7 MB/s eta 0:00:32\n",
      "   -------- ------------------------------- 42.6/191.7 MB 4.6 MB/s eta 0:00:33\n",
      "   -------- ------------------------------- 42.9/191.7 MB 5.2 MB/s eta 0:00:29\n",
      "   --------- ------------------------------ 43.1/191.7 MB 5.1 MB/s eta 0:00:30\n",
      "   --------- ------------------------------ 43.4/191.7 MB 5.1 MB/s eta 0:00:29\n",
      "   --------- ------------------------------ 43.7/191.7 MB 5.1 MB/s eta 0:00:29\n",
      "   --------- ------------------------------ 44.0/191.7 MB 5.1 MB/s eta 0:00:30\n",
      "   --------- ------------------------------ 44.2/191.7 MB 5.1 MB/s eta 0:00:30\n",
      "   --------- ------------------------------ 44.5/191.7 MB 5.0 MB/s eta 0:00:30\n",
      "   --------- ------------------------------ 44.8/191.7 MB 5.0 MB/s eta 0:00:30\n",
      "   --------- ------------------------------ 45.1/191.7 MB 5.0 MB/s eta 0:00:30\n",
      "   --------- ------------------------------ 45.4/191.7 MB 5.0 MB/s eta 0:00:30\n",
      "   --------- ------------------------------ 45.7/191.7 MB 4.9 MB/s eta 0:00:30\n",
      "   --------- ------------------------------ 45.9/191.7 MB 5.0 MB/s eta 0:00:30\n",
      "   --------- ------------------------------ 46.3/191.7 MB 4.9 MB/s eta 0:00:30\n",
      "   --------- ------------------------------ 46.6/191.7 MB 4.9 MB/s eta 0:00:30\n",
      "   --------- ------------------------------ 46.9/191.7 MB 4.8 MB/s eta 0:00:30\n",
      "   --------- ------------------------------ 47.2/191.7 MB 6.1 MB/s eta 0:00:24\n",
      "   --------- ------------------------------ 47.5/191.7 MB 6.0 MB/s eta 0:00:25\n",
      "   --------- ------------------------------ 47.8/191.7 MB 6.0 MB/s eta 0:00:24\n",
      "   ---------- ----------------------------- 48.0/191.7 MB 6.2 MB/s eta 0:00:24\n",
      "   ---------- ----------------------------- 48.2/191.7 MB 6.2 MB/s eta 0:00:24\n",
      "   ---------- ----------------------------- 48.5/191.7 MB 6.1 MB/s eta 0:00:24\n",
      "   ---------- ----------------------------- 48.8/191.7 MB 6.0 MB/s eta 0:00:24\n",
      "   ---------- ----------------------------- 49.1/191.7 MB 6.0 MB/s eta 0:00:24\n",
      "   ---------- ----------------------------- 49.4/191.7 MB 6.0 MB/s eta 0:00:24\n",
      "   ---------- ----------------------------- 49.7/191.7 MB 6.0 MB/s eta 0:00:24\n",
      "   ---------- ----------------------------- 49.9/191.7 MB 6.0 MB/s eta 0:00:24\n",
      "   ---------- ----------------------------- 50.1/191.7 MB 6.0 MB/s eta 0:00:24\n",
      "   ---------- ----------------------------- 50.5/191.7 MB 5.9 MB/s eta 0:00:24\n",
      "   ---------- ----------------------------- 50.8/191.7 MB 5.9 MB/s eta 0:00:24\n",
      "   ---------- ----------------------------- 51.1/191.7 MB 5.9 MB/s eta 0:00:24\n",
      "   ---------- ----------------------------- 51.4/191.7 MB 5.9 MB/s eta 0:00:24\n",
      "   ---------- ----------------------------- 51.8/191.7 MB 5.9 MB/s eta 0:00:24\n",
      "   ---------- ----------------------------- 52.1/191.7 MB 6.0 MB/s eta 0:00:24\n",
      "   ---------- ----------------------------- 52.4/191.7 MB 6.0 MB/s eta 0:00:24\n",
      "   ---------- ----------------------------- 52.7/191.7 MB 6.0 MB/s eta 0:00:24\n",
      "   ----------- ---------------------------- 53.0/191.7 MB 6.0 MB/s eta 0:00:24\n",
      "   ----------- ---------------------------- 53.2/191.7 MB 6.1 MB/s eta 0:00:23\n",
      "   ----------- ---------------------------- 53.6/191.7 MB 6.1 MB/s eta 0:00:23\n",
      "   ----------- ---------------------------- 53.9/191.7 MB 6.1 MB/s eta 0:00:23\n",
      "   ----------- ---------------------------- 54.1/191.7 MB 6.2 MB/s eta 0:00:23\n",
      "   ----------- ---------------------------- 54.4/191.7 MB 6.2 MB/s eta 0:00:23\n",
      "   ----------- ---------------------------- 54.8/191.7 MB 6.2 MB/s eta 0:00:23\n",
      "   ----------- ---------------------------- 55.1/191.7 MB 6.3 MB/s eta 0:00:22\n",
      "   ----------- ---------------------------- 55.4/191.7 MB 6.2 MB/s eta 0:00:22\n",
      "   ----------- ---------------------------- 55.7/191.7 MB 6.3 MB/s eta 0:00:22\n",
      "   ----------- ---------------------------- 56.1/191.7 MB 6.3 MB/s eta 0:00:22\n",
      "   ----------- ---------------------------- 56.4/191.7 MB 6.3 MB/s eta 0:00:22\n",
      "   ----------- ---------------------------- 56.7/191.7 MB 6.4 MB/s eta 0:00:22\n",
      "   ----------- ---------------------------- 57.0/191.7 MB 6.4 MB/s eta 0:00:22\n",
      "   ----------- ---------------------------- 57.3/191.7 MB 6.4 MB/s eta 0:00:21\n",
      "   ------------ --------------------------- 57.6/191.7 MB 6.5 MB/s eta 0:00:21\n",
      "   ------------ --------------------------- 57.9/191.7 MB 6.5 MB/s eta 0:00:21\n",
      "   ------------ --------------------------- 58.2/191.7 MB 6.5 MB/s eta 0:00:21\n",
      "   ------------ --------------------------- 58.5/191.7 MB 6.6 MB/s eta 0:00:21\n",
      "   ------------ --------------------------- 58.8/191.7 MB 6.7 MB/s eta 0:00:20\n",
      "   ------------ --------------------------- 59.2/191.7 MB 6.7 MB/s eta 0:00:20\n",
      "   ------------ --------------------------- 59.5/191.7 MB 6.7 MB/s eta 0:00:20\n",
      "   ------------ --------------------------- 59.8/191.7 MB 6.7 MB/s eta 0:00:20\n",
      "   ------------ --------------------------- 60.2/191.7 MB 6.8 MB/s eta 0:00:20\n",
      "   ------------ --------------------------- 60.5/191.7 MB 6.8 MB/s eta 0:00:20\n",
      "   ------------ --------------------------- 60.8/191.7 MB 6.8 MB/s eta 0:00:20\n",
      "   ------------ --------------------------- 61.2/191.7 MB 6.9 MB/s eta 0:00:19\n",
      "   ------------ --------------------------- 61.5/191.7 MB 6.9 MB/s eta 0:00:19\n",
      "   ------------ --------------------------- 61.8/191.7 MB 6.8 MB/s eta 0:00:20\n",
      "   ------------ --------------------------- 62.2/191.7 MB 7.0 MB/s eta 0:00:19\n",
      "   ------------- -------------------------- 62.6/191.7 MB 7.0 MB/s eta 0:00:19\n",
      "   ------------- -------------------------- 62.9/191.7 MB 7.0 MB/s eta 0:00:19\n",
      "   ------------- -------------------------- 63.2/191.7 MB 7.0 MB/s eta 0:00:19\n",
      "   ------------- -------------------------- 63.6/191.7 MB 7.0 MB/s eta 0:00:19\n",
      "   ------------- -------------------------- 64.0/191.7 MB 7.0 MB/s eta 0:00:19\n",
      "   ------------- -------------------------- 64.4/191.7 MB 7.1 MB/s eta 0:00:18\n",
      "   ------------- -------------------------- 64.7/191.7 MB 7.1 MB/s eta 0:00:18\n",
      "   ------------- -------------------------- 65.0/191.7 MB 7.1 MB/s eta 0:00:18\n",
      "   ------------- -------------------------- 65.4/191.7 MB 7.2 MB/s eta 0:00:18\n",
      "   ------------- -------------------------- 65.6/191.7 MB 7.2 MB/s eta 0:00:18\n",
      "   ------------- -------------------------- 66.0/191.7 MB 7.2 MB/s eta 0:00:18\n",
      "   ------------- -------------------------- 66.4/191.7 MB 7.3 MB/s eta 0:00:18\n",
      "   ------------- -------------------------- 66.8/191.7 MB 7.4 MB/s eta 0:00:17\n",
      "   -------------- ------------------------- 67.1/191.7 MB 7.4 MB/s eta 0:00:17\n",
      "   -------------- ------------------------- 67.5/191.7 MB 7.4 MB/s eta 0:00:17\n",
      "   -------------- ------------------------- 67.8/191.7 MB 7.4 MB/s eta 0:00:17\n",
      "   -------------- ------------------------- 68.1/191.7 MB 7.4 MB/s eta 0:00:17\n",
      "   -------------- ------------------------- 68.4/191.7 MB 7.4 MB/s eta 0:00:17\n",
      "   -------------- ------------------------- 68.7/191.7 MB 7.4 MB/s eta 0:00:17\n",
      "   -------------- ------------------------- 69.1/191.7 MB 7.5 MB/s eta 0:00:17\n",
      "   -------------- ------------------------- 69.5/191.7 MB 7.4 MB/s eta 0:00:17\n",
      "   -------------- ------------------------- 69.9/191.7 MB 7.5 MB/s eta 0:00:17\n",
      "   -------------- ------------------------- 70.3/191.7 MB 7.6 MB/s eta 0:00:16\n",
      "   -------------- ------------------------- 70.7/191.7 MB 7.6 MB/s eta 0:00:16\n",
      "   -------------- ------------------------- 71.1/191.7 MB 7.7 MB/s eta 0:00:16\n",
      "   -------------- ------------------------- 71.4/191.7 MB 7.6 MB/s eta 0:00:16\n",
      "   -------------- ------------------------- 71.8/191.7 MB 7.7 MB/s eta 0:00:16\n",
      "   --------------- ------------------------ 72.1/191.7 MB 7.7 MB/s eta 0:00:16\n",
      "   --------------- ------------------------ 72.4/191.7 MB 7.8 MB/s eta 0:00:16\n",
      "   --------------- ------------------------ 72.8/191.7 MB 7.8 MB/s eta 0:00:16\n",
      "   --------------- ------------------------ 73.1/191.7 MB 7.8 MB/s eta 0:00:16\n",
      "   --------------- ------------------------ 73.5/191.7 MB 7.9 MB/s eta 0:00:15\n",
      "   --------------- ------------------------ 73.8/191.7 MB 7.8 MB/s eta 0:00:16\n",
      "   --------------- ------------------------ 74.2/191.7 MB 7.9 MB/s eta 0:00:15\n",
      "   --------------- ------------------------ 74.5/191.7 MB 7.9 MB/s eta 0:00:15\n",
      "   --------------- ------------------------ 74.9/191.7 MB 8.0 MB/s eta 0:00:15\n",
      "   --------------- ------------------------ 75.3/191.7 MB 8.0 MB/s eta 0:00:15\n",
      "   --------------- ------------------------ 75.7/191.7 MB 8.1 MB/s eta 0:00:15\n",
      "   --------------- ------------------------ 76.1/191.7 MB 8.1 MB/s eta 0:00:15\n",
      "   --------------- ------------------------ 76.6/191.7 MB 8.1 MB/s eta 0:00:15\n",
      "   ---------------- ----------------------- 77.0/191.7 MB 8.1 MB/s eta 0:00:15\n",
      "   ---------------- ----------------------- 77.4/191.7 MB 8.1 MB/s eta 0:00:15\n",
      "   ---------------- ----------------------- 77.8/191.7 MB 8.1 MB/s eta 0:00:15\n",
      "   ---------------- ----------------------- 78.2/191.7 MB 8.1 MB/s eta 0:00:15\n",
      "   ---------------- ----------------------- 78.6/191.7 MB 8.2 MB/s eta 0:00:14\n",
      "   ---------------- ----------------------- 79.1/191.7 MB 8.3 MB/s eta 0:00:14\n",
      "   ---------------- ----------------------- 79.5/191.7 MB 8.2 MB/s eta 0:00:14\n",
      "   ---------------- ----------------------- 79.7/191.7 MB 8.2 MB/s eta 0:00:14\n",
      "   ---------------- ----------------------- 79.7/191.7 MB 8.2 MB/s eta 0:00:14\n",
      "   ---------------- ----------------------- 80.0/191.7 MB 7.7 MB/s eta 0:00:15\n",
      "   ---------------- ----------------------- 80.3/191.7 MB 7.8 MB/s eta 0:00:15\n",
      "   ---------------- ----------------------- 80.6/191.7 MB 7.8 MB/s eta 0:00:15\n",
      "   ---------------- ----------------------- 80.9/191.7 MB 7.8 MB/s eta 0:00:15\n",
      "   ---------------- ----------------------- 81.3/191.7 MB 7.8 MB/s eta 0:00:15\n",
      "   ----------------- ---------------------- 81.7/191.7 MB 7.9 MB/s eta 0:00:14\n",
      "   ----------------- ---------------------- 82.0/191.7 MB 7.9 MB/s eta 0:00:14\n",
      "   ----------------- ---------------------- 82.4/191.7 MB 7.8 MB/s eta 0:00:15\n",
      "   ----------------- ---------------------- 82.8/191.7 MB 7.9 MB/s eta 0:00:14\n",
      "   ----------------- ---------------------- 83.1/191.7 MB 7.9 MB/s eta 0:00:14\n",
      "   ----------------- ---------------------- 83.5/191.7 MB 7.9 MB/s eta 0:00:14\n",
      "   ----------------- ---------------------- 84.0/191.7 MB 7.9 MB/s eta 0:00:14\n",
      "   ----------------- ---------------------- 84.4/191.7 MB 7.9 MB/s eta 0:00:14\n",
      "   ----------------- ---------------------- 84.8/191.7 MB 8.0 MB/s eta 0:00:14\n",
      "   ----------------- ---------------------- 85.2/191.7 MB 7.9 MB/s eta 0:00:14\n",
      "   ----------------- ---------------------- 85.7/191.7 MB 7.9 MB/s eta 0:00:14\n",
      "   ----------------- ---------------------- 86.1/191.7 MB 8.0 MB/s eta 0:00:14\n",
      "   ------------------ --------------------- 86.4/191.7 MB 8.0 MB/s eta 0:00:14\n",
      "   ------------------ --------------------- 86.8/191.7 MB 8.0 MB/s eta 0:00:14\n",
      "   ------------------ --------------------- 87.3/191.7 MB 8.0 MB/s eta 0:00:14\n",
      "   ------------------ --------------------- 87.6/191.7 MB 8.0 MB/s eta 0:00:14\n",
      "   ------------------ --------------------- 88.0/191.7 MB 8.1 MB/s eta 0:00:13\n",
      "   ------------------ --------------------- 88.4/191.7 MB 8.0 MB/s eta 0:00:13\n",
      "   ------------------ --------------------- 88.9/191.7 MB 8.1 MB/s eta 0:00:13\n",
      "   ------------------ --------------------- 89.3/191.7 MB 8.1 MB/s eta 0:00:13\n",
      "   ------------------ --------------------- 89.6/191.7 MB 8.1 MB/s eta 0:00:13\n",
      "   ------------------ --------------------- 90.0/191.7 MB 8.5 MB/s eta 0:00:12\n",
      "   ------------------ --------------------- 90.4/191.7 MB 8.6 MB/s eta 0:00:12\n",
      "   ------------------ --------------------- 90.7/191.7 MB 8.6 MB/s eta 0:00:12\n",
      "   ------------------- -------------------- 91.2/191.7 MB 8.7 MB/s eta 0:00:12\n",
      "   ------------------- -------------------- 91.6/191.7 MB 8.6 MB/s eta 0:00:12\n",
      "   ------------------- -------------------- 92.0/191.7 MB 8.7 MB/s eta 0:00:12\n",
      "   ------------------- -------------------- 92.4/191.7 MB 8.6 MB/s eta 0:00:12\n",
      "   ------------------- -------------------- 92.8/191.7 MB 8.7 MB/s eta 0:00:12\n",
      "   ------------------- -------------------- 93.2/191.7 MB 8.7 MB/s eta 0:00:12\n",
      "   ------------------- -------------------- 93.3/191.7 MB 8.7 MB/s eta 0:00:12\n",
      "   ------------------- -------------------- 93.3/191.7 MB 8.7 MB/s eta 0:00:12\n",
      "   ------------------- -------------------- 93.3/191.7 MB 8.7 MB/s eta 0:00:12\n",
      "   ------------------- -------------------- 93.3/191.7 MB 8.7 MB/s eta 0:00:12\n",
      "   ------------------- -------------------- 93.5/191.7 MB 7.4 MB/s eta 0:00:14\n",
      "   ------------------- -------------------- 93.8/191.7 MB 7.4 MB/s eta 0:00:14\n",
      "   ------------------- -------------------- 94.3/191.7 MB 7.4 MB/s eta 0:00:14\n",
      "   ------------------- -------------------- 94.7/191.7 MB 7.5 MB/s eta 0:00:13\n",
      "   ------------------- -------------------- 95.0/191.7 MB 7.5 MB/s eta 0:00:13\n",
      "   ------------------- -------------------- 95.5/191.7 MB 7.5 MB/s eta 0:00:13\n",
      "   -------------------- ------------------- 95.9/191.7 MB 7.4 MB/s eta 0:00:13\n",
      "   -------------------- ------------------- 96.3/191.7 MB 7.5 MB/s eta 0:00:13\n",
      "   -------------------- ------------------- 96.8/191.7 MB 7.5 MB/s eta 0:00:13\n",
      "   -------------------- ------------------- 97.2/191.7 MB 7.5 MB/s eta 0:00:13\n",
      "   -------------------- ------------------- 97.7/191.7 MB 7.5 MB/s eta 0:00:13\n",
      "   -------------------- ------------------- 98.1/191.7 MB 7.6 MB/s eta 0:00:13\n",
      "   -------------------- ------------------- 98.4/191.7 MB 7.6 MB/s eta 0:00:13\n",
      "   -------------------- ------------------- 98.8/191.7 MB 7.6 MB/s eta 0:00:13\n",
      "   -------------------- ------------------- 99.2/191.7 MB 7.6 MB/s eta 0:00:13\n",
      "   -------------------- ------------------- 99.6/191.7 MB 7.6 MB/s eta 0:00:13\n",
      "   -------------------- ------------------- 100.0/191.7 MB 7.6 MB/s eta 0:00:13\n",
      "   -------------------- ------------------- 100.6/191.7 MB 7.7 MB/s eta 0:00:12\n",
      "   --------------------- ------------------ 101.0/191.7 MB 7.7 MB/s eta 0:00:12\n",
      "   --------------------- ------------------ 101.3/191.7 MB 7.6 MB/s eta 0:00:12\n",
      "   --------------------- ------------------ 101.8/191.7 MB 7.7 MB/s eta 0:00:12\n",
      "   --------------------- ------------------ 102.2/191.7 MB 7.8 MB/s eta 0:00:12\n",
      "   --------------------- ------------------ 102.6/191.7 MB 7.8 MB/s eta 0:00:12\n",
      "   --------------------- ------------------ 102.9/191.7 MB 7.9 MB/s eta 0:00:12\n",
      "   --------------------- ------------------ 103.3/191.7 MB 7.8 MB/s eta 0:00:12\n",
      "   --------------------- ------------------ 103.9/191.7 MB 9.4 MB/s eta 0:00:10\n",
      "   --------------------- ------------------ 104.3/191.7 MB 9.4 MB/s eta 0:00:10\n",
      "   --------------------- ------------------ 104.7/191.7 MB 9.2 MB/s eta 0:00:10\n",
      "   --------------------- ------------------ 105.2/191.7 MB 9.2 MB/s eta 0:00:10\n",
      "   ---------------------- ----------------- 105.6/191.7 MB 9.2 MB/s eta 0:00:10\n",
      "   ---------------------- ----------------- 106.1/191.7 MB 9.2 MB/s eta 0:00:10\n",
      "   ---------------------- ----------------- 106.4/191.7 MB 9.2 MB/s eta 0:00:10\n",
      "   ---------------------- ----------------- 106.9/191.7 MB 9.4 MB/s eta 0:00:10\n",
      "   ---------------------- ----------------- 107.4/191.7 MB 9.4 MB/s eta 0:00:10\n",
      "   ---------------------- ----------------- 107.8/191.7 MB 9.4 MB/s eta 0:00:09\n",
      "   ---------------------- ----------------- 108.3/191.7 MB 9.5 MB/s eta 0:00:09\n",
      "   ---------------------- ----------------- 108.7/191.7 MB 9.5 MB/s eta 0:00:09\n",
      "   ---------------------- ----------------- 109.1/191.7 MB 9.5 MB/s eta 0:00:09\n",
      "   ---------------------- ----------------- 109.5/191.7 MB 9.6 MB/s eta 0:00:09\n",
      "   ---------------------- ----------------- 109.9/191.7 MB 9.6 MB/s eta 0:00:09\n",
      "   ----------------------- ---------------- 110.2/191.7 MB 9.5 MB/s eta 0:00:09\n",
      "   ----------------------- ---------------- 110.6/191.7 MB 9.5 MB/s eta 0:00:09\n",
      "   ----------------------- ---------------- 111.0/191.7 MB 9.4 MB/s eta 0:00:09\n",
      "   ----------------------- ---------------- 111.6/191.7 MB 9.4 MB/s eta 0:00:09\n",
      "   ----------------------- ---------------- 112.0/191.7 MB 9.5 MB/s eta 0:00:09\n",
      "   ----------------------- ---------------- 112.4/191.7 MB 9.6 MB/s eta 0:00:09\n",
      "   ----------------------- ---------------- 112.9/191.7 MB 9.5 MB/s eta 0:00:09\n",
      "   ----------------------- ---------------- 113.2/191.7 MB 9.5 MB/s eta 0:00:09\n",
      "   ----------------------- ---------------- 113.7/191.7 MB 9.5 MB/s eta 0:00:09\n",
      "   ----------------------- ---------------- 114.2/191.7 MB 9.6 MB/s eta 0:00:09\n",
      "   ----------------------- ---------------- 114.7/191.7 MB 9.6 MB/s eta 0:00:08\n",
      "   ------------------------ --------------- 115.1/191.7 MB 9.8 MB/s eta 0:00:08\n",
      "   ------------------------ --------------- 115.6/191.7 MB 9.8 MB/s eta 0:00:08\n",
      "   ------------------------ --------------- 116.0/191.7 MB 9.6 MB/s eta 0:00:08\n",
      "   ------------------------ --------------- 116.5/191.7 MB 9.8 MB/s eta 0:00:08\n",
      "   ------------------------ --------------- 116.9/191.7 MB 9.8 MB/s eta 0:00:08\n",
      "   ------------------------ --------------- 117.4/191.7 MB 9.8 MB/s eta 0:00:08\n",
      "   ------------------------ --------------- 117.9/191.7 MB 9.9 MB/s eta 0:00:08\n",
      "   ------------------------ --------------- 118.4/191.7 MB 9.9 MB/s eta 0:00:08\n",
      "   ------------------------ --------------- 118.9/191.7 MB 9.9 MB/s eta 0:00:08\n",
      "   ------------------------ --------------- 119.2/191.7 MB 9.8 MB/s eta 0:00:08\n",
      "   ------------------------ --------------- 119.6/191.7 MB 9.9 MB/s eta 0:00:08\n",
      "   ------------------------- -------------- 120.0/191.7 MB 9.8 MB/s eta 0:00:08\n",
      "   ------------------------ -------------- 120.5/191.7 MB 10.1 MB/s eta 0:00:08\n",
      "   ------------------------- -------------- 120.8/191.7 MB 9.9 MB/s eta 0:00:08\n",
      "   ------------------------ -------------- 121.3/191.7 MB 10.2 MB/s eta 0:00:07\n",
      "   ------------------------ -------------- 121.8/191.7 MB 10.1 MB/s eta 0:00:07\n",
      "   ------------------------ -------------- 122.2/191.7 MB 10.2 MB/s eta 0:00:07\n",
      "   ------------------------ -------------- 122.7/191.7 MB 10.1 MB/s eta 0:00:07\n",
      "   ------------------------- ------------- 123.2/191.7 MB 10.1 MB/s eta 0:00:07\n",
      "   ------------------------- ------------- 123.7/191.7 MB 10.1 MB/s eta 0:00:07\n",
      "   ------------------------- ------------- 124.1/191.7 MB 10.2 MB/s eta 0:00:07\n",
      "   ------------------------- ------------- 124.6/191.7 MB 10.2 MB/s eta 0:00:07\n",
      "   ------------------------- ------------- 125.1/191.7 MB 10.2 MB/s eta 0:00:07\n",
      "   ------------------------- ------------- 125.6/191.7 MB 10.2 MB/s eta 0:00:07\n",
      "   ------------------------- ------------- 126.1/191.7 MB 10.2 MB/s eta 0:00:07\n",
      "   ------------------------- ------------- 126.6/191.7 MB 10.4 MB/s eta 0:00:07\n",
      "   ------------------------- ------------- 127.1/191.7 MB 10.4 MB/s eta 0:00:07\n",
      "   ------------------------- ------------- 127.6/191.7 MB 10.4 MB/s eta 0:00:07\n",
      "   -------------------------- ------------ 128.1/191.7 MB 10.4 MB/s eta 0:00:07\n",
      "   -------------------------- ------------ 128.6/191.7 MB 10.6 MB/s eta 0:00:06\n",
      "   -------------------------- ------------ 129.2/191.7 MB 10.6 MB/s eta 0:00:06\n",
      "   -------------------------- ------------ 129.7/191.7 MB 10.6 MB/s eta 0:00:06\n",
      "   -------------------------- ------------ 130.1/191.7 MB 10.6 MB/s eta 0:00:06\n",
      "   -------------------------- ------------ 130.5/191.7 MB 10.6 MB/s eta 0:00:06\n",
      "   -------------------------- ------------ 131.1/191.7 MB 10.6 MB/s eta 0:00:06\n",
      "   -------------------------- ------------ 131.6/191.7 MB 10.6 MB/s eta 0:00:06\n",
      "   -------------------------- ------------ 132.0/191.7 MB 10.6 MB/s eta 0:00:06\n",
      "   -------------------------- ------------ 132.5/191.7 MB 10.7 MB/s eta 0:00:06\n",
      "   --------------------------- ----------- 133.0/191.7 MB 10.7 MB/s eta 0:00:06\n",
      "   --------------------------- ----------- 133.5/191.7 MB 10.7 MB/s eta 0:00:06\n",
      "   --------------------------- ----------- 134.0/191.7 MB 10.7 MB/s eta 0:00:06\n",
      "   --------------------------- ----------- 134.5/191.7 MB 10.7 MB/s eta 0:00:06\n",
      "   --------------------------- ----------- 134.9/191.7 MB 10.6 MB/s eta 0:00:06\n",
      "   --------------------------- ----------- 135.4/191.7 MB 10.7 MB/s eta 0:00:06\n",
      "   --------------------------- ----------- 136.0/191.7 MB 10.7 MB/s eta 0:00:06\n",
      "   --------------------------- ----------- 136.3/191.7 MB 10.7 MB/s eta 0:00:06\n",
      "   --------------------------- ----------- 136.8/191.7 MB 10.7 MB/s eta 0:00:06\n",
      "   --------------------------- ----------- 137.3/191.7 MB 10.7 MB/s eta 0:00:06\n",
      "   ---------------------------- ---------- 137.8/191.7 MB 10.6 MB/s eta 0:00:06\n",
      "   ---------------------------- ---------- 138.3/191.7 MB 10.6 MB/s eta 0:00:06\n",
      "   ---------------------------- ---------- 138.8/191.7 MB 10.6 MB/s eta 0:00:06\n",
      "   ---------------------------- ---------- 139.3/191.7 MB 10.6 MB/s eta 0:00:05\n",
      "   ---------------------------- ---------- 139.8/191.7 MB 10.6 MB/s eta 0:00:05\n",
      "   ---------------------------- ---------- 140.3/191.7 MB 10.6 MB/s eta 0:00:05\n",
      "   ---------------------------- ---------- 140.9/191.7 MB 10.6 MB/s eta 0:00:05\n",
      "   ---------------------------- ---------- 141.4/191.7 MB 10.6 MB/s eta 0:00:05\n",
      "   ---------------------------- ---------- 141.8/191.7 MB 10.6 MB/s eta 0:00:05\n",
      "   ---------------------------- ---------- 142.4/191.7 MB 10.7 MB/s eta 0:00:05\n",
      "   ----------------------------- --------- 142.9/191.7 MB 10.9 MB/s eta 0:00:05\n",
      "   ----------------------------- --------- 143.5/191.7 MB 10.9 MB/s eta 0:00:05\n",
      "   ----------------------------- --------- 144.0/191.7 MB 10.7 MB/s eta 0:00:05\n",
      "   ----------------------------- --------- 144.6/191.7 MB 10.9 MB/s eta 0:00:05\n",
      "   ----------------------------- --------- 145.1/191.7 MB 10.9 MB/s eta 0:00:05\n",
      "   ----------------------------- --------- 145.7/191.7 MB 11.1 MB/s eta 0:00:05\n",
      "   ----------------------------- --------- 146.0/191.7 MB 10.9 MB/s eta 0:00:05\n",
      "   ----------------------------- --------- 146.6/191.7 MB 11.1 MB/s eta 0:00:05\n",
      "   ----------------------------- --------- 146.8/191.7 MB 10.6 MB/s eta 0:00:05\n",
      "   ----------------------------- --------- 147.2/191.7 MB 10.7 MB/s eta 0:00:05\n",
      "   ------------------------------ -------- 147.6/191.7 MB 10.7 MB/s eta 0:00:05\n",
      "   ------------------------------ -------- 148.1/191.7 MB 10.7 MB/s eta 0:00:05\n",
      "   ------------------------------ -------- 148.6/191.7 MB 10.6 MB/s eta 0:00:05\n",
      "   ------------------------------ -------- 148.9/191.7 MB 10.6 MB/s eta 0:00:05\n",
      "   ------------------------------ -------- 149.4/191.7 MB 10.6 MB/s eta 0:00:05\n",
      "   ------------------------------ -------- 149.9/191.7 MB 10.6 MB/s eta 0:00:04\n",
      "   ------------------------------ -------- 149.9/191.7 MB 10.6 MB/s eta 0:00:04\n",
      "   ------------------------------ -------- 150.5/191.7 MB 10.1 MB/s eta 0:00:05\n",
      "   ------------------------------ -------- 151.0/191.7 MB 10.1 MB/s eta 0:00:05\n",
      "   ------------------------------ -------- 151.4/191.7 MB 10.1 MB/s eta 0:00:05\n",
      "   ------------------------------- -------- 152.0/191.7 MB 9.9 MB/s eta 0:00:05\n",
      "   ------------------------------- -------- 152.5/191.7 MB 9.9 MB/s eta 0:00:04\n",
      "   ------------------------------- -------- 152.9/191.7 MB 9.9 MB/s eta 0:00:04\n",
      "   -------------------------------- ------- 153.4/191.7 MB 9.9 MB/s eta 0:00:04\n",
      "   -------------------------------- ------- 154.0/191.7 MB 9.9 MB/s eta 0:00:04\n",
      "   -------------------------------- ------- 154.5/191.7 MB 9.9 MB/s eta 0:00:04\n",
      "   ------------------------------- ------- 155.1/191.7 MB 10.1 MB/s eta 0:00:04\n",
      "   ------------------------------- ------- 155.5/191.7 MB 10.1 MB/s eta 0:00:04\n",
      "   -------------------------------- ------- 155.8/191.7 MB 9.6 MB/s eta 0:00:04\n",
      "   -------------------------------- ------- 156.3/191.7 MB 9.8 MB/s eta 0:00:04\n",
      "   -------------------------------- ------- 156.9/191.7 MB 9.8 MB/s eta 0:00:04\n",
      "   -------------------------------- ------ 157.4/191.7 MB 10.1 MB/s eta 0:00:04\n",
      "   -------------------------------- ------ 157.9/191.7 MB 10.1 MB/s eta 0:00:04\n",
      "   -------------------------------- ------ 158.4/191.7 MB 10.2 MB/s eta 0:00:04\n",
      "   -------------------------------- ------ 158.9/191.7 MB 10.2 MB/s eta 0:00:04\n",
      "   -------------------------------- ------ 159.4/191.7 MB 10.4 MB/s eta 0:00:04\n",
      "   -------------------------------- ------ 159.9/191.7 MB 10.6 MB/s eta 0:00:04\n",
      "   -------------------------------- ------ 160.4/191.7 MB 11.1 MB/s eta 0:00:03\n",
      "   -------------------------------- ------ 160.4/191.7 MB 10.9 MB/s eta 0:00:03\n",
      "   -------------------------------- ------ 160.4/191.7 MB 10.9 MB/s eta 0:00:03\n",
      "   -------------------------------- ------ 160.4/191.7 MB 10.9 MB/s eta 0:00:03\n",
      "   -------------------------------- ------ 160.4/191.7 MB 10.9 MB/s eta 0:00:03\n",
      "   -------------------------------- ------ 160.4/191.7 MB 10.9 MB/s eta 0:00:03\n",
      "   --------------------------------- ------ 160.9/191.7 MB 8.8 MB/s eta 0:00:04\n",
      "   --------------------------------- ------ 161.5/191.7 MB 8.8 MB/s eta 0:00:04\n",
      "   --------------------------------- ------ 161.5/191.7 MB 8.8 MB/s eta 0:00:04\n",
      "   --------------------------------- ------ 161.5/191.7 MB 8.8 MB/s eta 0:00:04\n",
      "   --------------------------------- ------ 161.5/191.7 MB 8.8 MB/s eta 0:00:04\n",
      "   --------------------------------- ------ 161.5/191.7 MB 8.8 MB/s eta 0:00:04\n",
      "   --------------------------------- ------ 161.5/191.7 MB 8.8 MB/s eta 0:00:04\n",
      "   --------------------------------- ------ 161.5/191.7 MB 8.8 MB/s eta 0:00:04\n",
      "   --------------------------------- ------ 161.5/191.7 MB 8.8 MB/s eta 0:00:04\n",
      "   --------------------------------- ------ 161.5/191.7 MB 8.8 MB/s eta 0:00:04\n",
      "   --------------------------------- ------ 161.5/191.7 MB 8.8 MB/s eta 0:00:04\n",
      "   --------------------------------- ------ 161.5/191.7 MB 8.8 MB/s eta 0:00:04\n",
      "   --------------------------------- ------ 161.5/191.7 MB 8.8 MB/s eta 0:00:04\n",
      "   --------------------------------- ------ 161.5/191.7 MB 8.8 MB/s eta 0:00:04\n",
      "   --------------------------------- ------ 161.5/191.7 MB 8.8 MB/s eta 0:00:04\n",
      "   --------------------------------- ------ 161.5/191.7 MB 8.8 MB/s eta 0:00:04\n",
      "   --------------------------------- ------ 161.5/191.7 MB 8.8 MB/s eta 0:00:04\n",
      "   --------------------------------- ------ 161.5/191.7 MB 8.8 MB/s eta 0:00:04\n",
      "   --------------------------------- ------ 161.5/191.7 MB 8.8 MB/s eta 0:00:04\n",
      "   --------------------------------- ------ 161.8/191.7 MB 5.2 MB/s eta 0:00:06\n",
      "   --------------------------------- ------ 162.2/191.7 MB 5.3 MB/s eta 0:00:06\n",
      "   --------------------------------- ------ 162.5/191.7 MB 5.2 MB/s eta 0:00:06\n",
      "   --------------------------------- ------ 162.9/191.7 MB 5.2 MB/s eta 0:00:06\n",
      "   ---------------------------------- ----- 163.5/191.7 MB 5.2 MB/s eta 0:00:06\n",
      "   ---------------------------------- ----- 163.8/191.7 MB 5.2 MB/s eta 0:00:06\n",
      "   ---------------------------------- ----- 164.3/191.7 MB 5.2 MB/s eta 0:00:06\n",
      "   ---------------------------------- ----- 164.8/191.7 MB 5.2 MB/s eta 0:00:06\n",
      "   ---------------------------------- ----- 165.4/191.7 MB 5.2 MB/s eta 0:00:06\n",
      "   ---------------------------------- ----- 165.9/191.7 MB 5.2 MB/s eta 0:00:05\n",
      "   ---------------------------------- ----- 166.5/191.7 MB 5.2 MB/s eta 0:00:05\n",
      "   ---------------------------------- ----- 167.0/191.7 MB 5.3 MB/s eta 0:00:05\n",
      "   ---------------------------------- ----- 167.5/191.7 MB 5.2 MB/s eta 0:00:05\n",
      "   ----------------------------------- ---- 168.0/191.7 MB 5.2 MB/s eta 0:00:05\n",
      "   ----------------------------------- ---- 168.6/191.7 MB 5.2 MB/s eta 0:00:05\n",
      "   ----------------------------------- ---- 169.0/191.7 MB 5.2 MB/s eta 0:00:05\n",
      "   ----------------------------------- ---- 169.3/191.7 MB 5.2 MB/s eta 0:00:05\n",
      "   ----------------------------------- ---- 170.0/191.7 MB 5.2 MB/s eta 0:00:05\n",
      "   ----------------------------------- ---- 170.3/191.7 MB 5.2 MB/s eta 0:00:05\n",
      "   ----------------------------------- ---- 170.9/191.7 MB 5.8 MB/s eta 0:00:04\n",
      "   ----------------------------------- ---- 171.3/191.7 MB 5.8 MB/s eta 0:00:04\n",
      "   ---------------------------------- ---- 171.8/191.7 MB 10.6 MB/s eta 0:00:02\n",
      "   ----------------------------------- --- 172.2/191.7 MB 10.4 MB/s eta 0:00:02\n",
      "   ----------------------------------- --- 172.7/191.7 MB 10.2 MB/s eta 0:00:02\n",
      "   ----------------------------------- --- 173.2/191.7 MB 10.6 MB/s eta 0:00:02\n",
      "   ----------------------------------- --- 173.6/191.7 MB 10.6 MB/s eta 0:00:02\n",
      "   ----------------------------------- --- 173.9/191.7 MB 10.6 MB/s eta 0:00:02\n",
      "   ----------------------------------- --- 174.5/191.7 MB 10.2 MB/s eta 0:00:02\n",
      "   ----------------------------------- --- 174.9/191.7 MB 10.2 MB/s eta 0:00:02\n",
      "   ----------------------------------- --- 175.3/191.7 MB 10.2 MB/s eta 0:00:02\n",
      "   ----------------------------------- --- 175.6/191.7 MB 10.2 MB/s eta 0:00:02\n",
      "   ----------------------------------- --- 176.0/191.7 MB 10.1 MB/s eta 0:00:02\n",
      "   ------------------------------------ --- 176.6/191.7 MB 9.8 MB/s eta 0:00:02\n",
      "   ------------------------------------ --- 177.0/191.7 MB 9.8 MB/s eta 0:00:02\n",
      "   ------------------------------------- -- 177.5/191.7 MB 9.8 MB/s eta 0:00:02\n",
      "   ------------------------------------- -- 178.0/191.7 MB 9.6 MB/s eta 0:00:02\n",
      "   ------------------------------------- -- 178.3/191.7 MB 9.6 MB/s eta 0:00:02\n",
      "   ------------------------------------- -- 178.7/191.7 MB 9.4 MB/s eta 0:00:02\n",
      "   ------------------------------------- -- 179.0/191.7 MB 9.2 MB/s eta 0:00:02\n",
      "   ------------------------------------- -- 179.3/191.7 MB 9.4 MB/s eta 0:00:02\n",
      "   ------------------------------------- -- 179.3/191.7 MB 9.4 MB/s eta 0:00:02\n",
      "   ------------------------------------- -- 179.3/191.7 MB 9.4 MB/s eta 0:00:02\n",
      "   ------------------------------------- -- 179.5/191.7 MB 8.4 MB/s eta 0:00:02\n",
      "   ------------------------------------- -- 179.8/191.7 MB 8.1 MB/s eta 0:00:02\n",
      "   ------------------------------------- -- 180.2/191.7 MB 8.1 MB/s eta 0:00:02\n",
      "   ------------------------------------- -- 180.5/191.7 MB 8.0 MB/s eta 0:00:02\n",
      "   ------------------------------------- -- 180.9/191.7 MB 8.0 MB/s eta 0:00:02\n",
      "   ------------------------------------- -- 181.3/191.7 MB 7.9 MB/s eta 0:00:02\n",
      "   ------------------------------------- -- 181.6/191.7 MB 7.9 MB/s eta 0:00:02\n",
      "   ------------------------------------- -- 182.0/191.7 MB 7.8 MB/s eta 0:00:02\n",
      "   -------------------------------------- - 182.4/191.7 MB 7.7 MB/s eta 0:00:02\n",
      "   -------------------------------------- - 182.7/191.7 MB 7.7 MB/s eta 0:00:02\n",
      "   -------------------------------------- - 183.1/191.7 MB 7.6 MB/s eta 0:00:02\n",
      "   -------------------------------------- - 183.4/191.7 MB 7.6 MB/s eta 0:00:02\n",
      "   -------------------------------------- - 183.8/191.7 MB 7.5 MB/s eta 0:00:02\n",
      "   -------------------------------------- - 184.2/191.7 MB 7.5 MB/s eta 0:00:01\n",
      "   -------------------------------------- - 184.5/191.7 MB 7.5 MB/s eta 0:00:01\n",
      "   -------------------------------------- - 184.9/191.7 MB 7.5 MB/s eta 0:00:01\n",
      "   -------------------------------------- - 185.3/191.7 MB 7.4 MB/s eta 0:00:01\n",
      "   -------------------------------------- - 185.6/191.7 MB 7.4 MB/s eta 0:00:01\n",
      "   -------------------------------------- - 186.0/191.7 MB 7.4 MB/s eta 0:00:01\n",
      "   -------------------------------------- - 186.2/191.7 MB 7.4 MB/s eta 0:00:01\n",
      "   -------------------------------------- - 186.5/191.7 MB 7.2 MB/s eta 0:00:01\n",
      "   -------------------------------------- - 186.8/191.7 MB 7.2 MB/s eta 0:00:01\n",
      "   ---------------------------------------  187.1/191.7 MB 7.1 MB/s eta 0:00:01\n",
      "   ---------------------------------------  187.4/191.7 MB 7.0 MB/s eta 0:00:01\n",
      "   ---------------------------------------  187.7/191.7 MB 6.8 MB/s eta 0:00:01\n",
      "   ---------------------------------------  188.0/191.7 MB 6.7 MB/s eta 0:00:01\n",
      "   ---------------------------------------  188.3/191.7 MB 6.6 MB/s eta 0:00:01\n",
      "   ---------------------------------------  188.5/191.7 MB 6.7 MB/s eta 0:00:01\n",
      "   ---------------------------------------  188.8/191.7 MB 6.5 MB/s eta 0:00:01\n",
      "   ---------------------------------------  189.2/191.7 MB 6.5 MB/s eta 0:00:01\n",
      "   ---------------------------------------  189.4/191.7 MB 6.5 MB/s eta 0:00:01\n",
      "   ---------------------------------------  189.8/191.7 MB 7.0 MB/s eta 0:00:01\n",
      "   ---------------------------------------  190.0/191.7 MB 7.0 MB/s eta 0:00:01\n",
      "   ---------------------------------------  190.3/191.7 MB 7.0 MB/s eta 0:00:01\n",
      "   ---------------------------------------  190.6/191.7 MB 7.0 MB/s eta 0:00:01\n",
      "   ---------------------------------------  190.9/191.7 MB 7.0 MB/s eta 0:00:01\n",
      "   ---------------------------------------  191.2/191.7 MB 6.9 MB/s eta 0:00:01\n",
      "   ---------------------------------------  191.4/191.7 MB 6.8 MB/s eta 0:00:01\n",
      "   ---------------------------------------  191.7/191.7 MB 6.8 MB/s eta 0:00:01\n",
      "   ---------------------------------------  191.7/191.7 MB 6.8 MB/s eta 0:00:01\n",
      "   ---------------------------------------  191.7/191.7 MB 6.8 MB/s eta 0:00:01\n",
      "   ---------------------------------------  191.7/191.7 MB 6.8 MB/s eta 0:00:01\n",
      "   ---------------------------------------  191.7/191.7 MB 6.8 MB/s eta 0:00:01\n",
      "   ---------------------------------------  191.7/191.7 MB 6.8 MB/s eta 0:00:01\n",
      "   ---------------------------------------  191.7/191.7 MB 6.8 MB/s eta 0:00:01\n",
      "   ---------------------------------------  191.7/191.7 MB 6.8 MB/s eta 0:00:01\n",
      "   ---------------------------------------- 191.7/191.7 MB 5.6 MB/s eta 0:00:00\n",
      "Downloading keras_nightly-3.0.3.dev2023122903-py3-none-any.whl (1.0 MB)\n",
      "   ---------------------------------------- 0.0/1.0 MB ? eta -:--:--\n",
      "   -------- ------------------------------- 0.2/1.0 MB 6.3 MB/s eta 0:00:01\n",
      "   --------------- ------------------------ 0.4/1.0 MB 5.0 MB/s eta 0:00:01\n",
      "   --------------------------- ------------ 0.7/1.0 MB 6.2 MB/s eta 0:00:01\n",
      "   ---------------------------------- ----- 0.9/1.0 MB 5.1 MB/s eta 0:00:01\n",
      "   ---------------------------------------- 1.0/1.0 MB 4.9 MB/s eta 0:00:00\n",
      "Downloading ml_dtypes-0.3.1-cp311-cp311-win_amd64.whl (127 kB)\n",
      "   ---------------------------------------- 0.0/127.1 kB ? eta -:--:--\n",
      "   ---------------------------------------- 127.1/127.1 kB 2.5 MB/s eta 0:00:00\n",
      "Downloading tb_nightly-2.16.0a20231229-py3-none-any.whl (5.5 MB)\n",
      "   ---------------------------------------- 0.0/5.5 MB ? eta -:--:--\n",
      "   - -------------------------------------- 0.2/5.5 MB 6.3 MB/s eta 0:00:01\n",
      "   --- ------------------------------------ 0.5/5.5 MB 5.8 MB/s eta 0:00:01\n",
      "   ---- ----------------------------------- 0.7/5.5 MB 5.2 MB/s eta 0:00:01\n",
      "   ------ --------------------------------- 0.9/5.5 MB 5.2 MB/s eta 0:00:01\n",
      "   -------- ------------------------------- 1.1/5.5 MB 5.2 MB/s eta 0:00:01\n",
      "   --------- ------------------------------ 1.4/5.5 MB 5.1 MB/s eta 0:00:01\n",
      "   ----------- ---------------------------- 1.6/5.5 MB 5.0 MB/s eta 0:00:01\n",
      "   ------------ --------------------------- 1.8/5.5 MB 5.1 MB/s eta 0:00:01\n",
      "   -------------- ------------------------- 2.0/5.5 MB 5.0 MB/s eta 0:00:01\n",
      "   ---------------- ----------------------- 2.3/5.5 MB 5.0 MB/s eta 0:00:01\n",
      "   ------------------ --------------------- 2.5/5.5 MB 5.0 MB/s eta 0:00:01\n",
      "   ------------------- -------------------- 2.8/5.5 MB 5.0 MB/s eta 0:00:01\n",
      "   --------------------- ------------------ 3.0/5.5 MB 5.0 MB/s eta 0:00:01\n",
      "   ----------------------- ---------------- 3.3/5.5 MB 5.1 MB/s eta 0:00:01\n",
      "   ------------------------- -------------- 3.5/5.5 MB 5.1 MB/s eta 0:00:01\n",
      "   -------------------------- ------------- 3.7/5.5 MB 5.0 MB/s eta 0:00:01\n",
      "   ---------------------------- ----------- 3.9/5.5 MB 5.1 MB/s eta 0:00:01\n",
      "   ------------------------------ --------- 4.2/5.5 MB 5.0 MB/s eta 0:00:01\n",
      "   -------------------------------- ------- 4.5/5.5 MB 5.1 MB/s eta 0:00:01\n",
      "   ---------------------------------- ----- 4.8/5.5 MB 5.1 MB/s eta 0:00:01\n",
      "   ----------------------------------- ---- 5.0/5.5 MB 5.1 MB/s eta 0:00:01\n",
      "   ------------------------------------- -- 5.2/5.5 MB 5.2 MB/s eta 0:00:01\n",
      "   ---------------------------------------  5.5/5.5 MB 5.2 MB/s eta 0:00:01\n",
      "   ---------------------------------------- 5.5/5.5 MB 5.1 MB/s eta 0:00:00\n",
      "Downloading tf_estimator_nightly-2.14.0.dev2023080308-py2.py3-none-any.whl (440 kB)\n",
      "   ---------------------------------------- 0.0/440.9 kB ? eta -:--:--\n",
      "   ------------------ --------------------- 204.8/440.9 kB 6.1 MB/s eta 0:00:01\n",
      "   -------------------------------------- - 419.8/440.9 kB 5.3 MB/s eta 0:00:01\n",
      "   ---------------------------------------- 440.9/440.9 kB 4.6 MB/s eta 0:00:00\n",
      "Downloading tf_keras_nightly-2.16.0.dev2023122910-py3-none-any.whl (1.7 MB)\n",
      "   ---------------------------------------- 0.0/1.7 MB ? eta -:--:--\n",
      "   ------ --------------------------------- 0.3/1.7 MB 5.7 MB/s eta 0:00:01\n",
      "   -------------- ------------------------- 0.6/1.7 MB 6.3 MB/s eta 0:00:01\n",
      "   -------------------- ------------------- 0.9/1.7 MB 5.5 MB/s eta 0:00:01\n",
      "   -------------------------- ------------- 1.1/1.7 MB 5.6 MB/s eta 0:00:01\n",
      "   -------------------------------- ------- 1.4/1.7 MB 5.6 MB/s eta 0:00:01\n",
      "   ------------------------------------- -- 1.6/1.7 MB 5.8 MB/s eta 0:00:01\n",
      "   ---------------------------------------  1.7/1.7 MB 5.8 MB/s eta 0:00:01\n",
      "   ---------------------------------------- 1.7/1.7 MB 5.0 MB/s eta 0:00:00\n",
      "Installing collected packages: tf-keras-nightly, tf-estimator-nightly, ml-dtypes, keras-nightly, tb-nightly, tf-nightly-intel, tf-nightly\n",
      "  Attempting uninstall: ml-dtypes\n",
      "    Found existing installation: ml-dtypes 0.2.0\n",
      "    Uninstalling ml-dtypes-0.2.0:\n",
      "      Successfully uninstalled ml-dtypes-0.2.0\n",
      "Note: you may need to restart the kernel to use updated packages.\n"
     ]
    },
    {
     "name": "stderr",
     "output_type": "stream",
     "text": [
      "  WARNING: Failed to remove contents in a temporary directory 'C:\\Users\\schif\\AppData\\Local\\Packages\\PythonSoftwareFoundation.Python.3.11_qbz5n2kfra8p0\\LocalCache\\local-packages\\Python311\\site-packages\\~l_dtypes'.\n",
      "  You can safely remove it manually.\n",
      "ERROR: Could not install packages due to an OSError: [WinError 5] Access is denied: 'C:\\\\Users\\\\schif\\\\AppData\\\\Local\\\\Packages\\\\PythonSoftwareFoundation.Python.3.11_qbz5n2kfra8p0\\\\LocalCache\\\\local-packages\\\\Python311\\\\site-packages\\\\tensorflow\\\\compiler\\\\mlir\\\\quantization\\\\tensorflow\\\\python\\\\pywrap_quantize_model.pyd'\n",
      "Check the permissions.\n",
      "\n"
     ]
    }
   ],
   "source": [
    "%pip install tf-nightly"
   ]
  },
  {
   "cell_type": "markdown",
   "metadata": {},
   "source": [
    "## Подготовка [датасета](https://www.manythings.org/anki/) к машинному переводу."
   ]
  },
  {
   "cell_type": "markdown",
   "metadata": {},
   "source": [
    "### Очистка текста"
   ]
  },
  {
   "cell_type": "code",
   "execution_count": 40,
   "metadata": {},
   "outputs": [],
   "source": [
    "def CleanAllText(filePath: str):\n",
    "    with open(filePath, 'r+', encoding='UTF8') as file:\n",
    "        lines = file.readlines()\n",
    "        for i, line in enumerate(lines):\n",
    "            columns = line.split('\\t')\n",
    "            updated_line = '\\t'.join(columns[:-1]) + '\\n'\n",
    "            lines[i] = updated_line\n",
    "        file.seek(0)\n",
    "        file.writelines(lines)\n",
    "        file.truncate()"
   ]
  },
  {
   "cell_type": "code",
   "execution_count": 41,
   "metadata": {},
   "outputs": [],
   "source": [
    "CleanAllText('../FILES/LAB_04_FILES/ukr.txt')"
   ]
  },
  {
   "cell_type": "markdown",
   "metadata": {},
   "source": [
    "### Считываем данные"
   ]
  },
  {
   "cell_type": "code",
   "execution_count": 44,
   "metadata": {},
   "outputs": [],
   "source": [
    "def ReadAllText(filePath: str):\n",
    "    with open(filePath, encoding='UTF8') as f:\n",
    "        lines = f.read().split(\"\\n\")[:-1]\n",
    "    text_pairs = []\n",
    "    for line in lines:\n",
    "        eng, ukr = line.split(\"\\t\")\n",
    "        ukr = \"[start] \" + ukr + \" [end]\"\n",
    "        text_pairs.append((eng, ukr))\n",
    "    return text_pairs"
   ]
  },
  {
   "cell_type": "code",
   "execution_count": 45,
   "metadata": {},
   "outputs": [
    {
     "name": "stdout",
     "output_type": "stream",
     "text": [
      "('Go.', '[start] Йди. [end]')\n",
      "('Hi.', '[start] Вітаю! [end]')\n",
      "('Hi.', '[start] Привіт. [end]')\n",
      "('Hi.', '[start] Привіт! [end]')\n",
      "('Run!', '[start] Біжіть! [end]')\n",
      "('Run!', '[start] Тікайте! [end]')\n",
      "('Run!', '[start] Біжи! [end]')\n",
      "('Wow!', '[start] Оце так! [end]')\n",
      "('Wow!', '[start] Клас! [end]')\n",
      "('Wow!', '[start] Класно! [end]')\n"
     ]
    }
   ],
   "source": [
    "text_pairs = ReadAllText('../FILES/LAB_04_FILES/ukr.txt')\n",
    "for i in range(10):\n",
    "    print(text_pairs[i])"
   ]
  },
  {
   "cell_type": "markdown",
   "metadata": {},
   "source": [
    "### Разбиение данных"
   ]
  },
  {
   "cell_type": "code",
   "execution_count": 46,
   "metadata": {},
   "outputs": [
    {
     "name": "stdout",
     "output_type": "stream",
     "text": [
      "158705 total pairs\n",
      "95223 training pairs\n",
      "31741 validation pairs\n",
      "31741 test pairs\n"
     ]
    }
   ],
   "source": [
    "random.shuffle(text_pairs)\n",
    "num_val_samples = int(0.2 * len(text_pairs))\n",
    "num_train_samples = len(text_pairs) - 2 * num_val_samples\n",
    "train_pairs = text_pairs[:num_train_samples]\n",
    "val_pairs = text_pairs[num_train_samples : num_train_samples + num_val_samples]\n",
    "test_pairs = text_pairs[num_train_samples + num_val_samples :]\n",
    "\n",
    "print(f\"{len(text_pairs)} total pairs\")\n",
    "print(f\"{len(train_pairs)} training pairs\")\n",
    "print(f\"{len(val_pairs)} validation pairs\")\n",
    "print(f\"{len(test_pairs)} test pairs\")"
   ]
  },
  {
   "cell_type": "markdown",
   "metadata": {},
   "source": [
    "### Векторизация данных"
   ]
  },
  {
   "cell_type": "code",
   "execution_count": 47,
   "metadata": {},
   "outputs": [],
   "source": [
    "strip_chars = string.punctuation\n",
    "strip_chars = strip_chars.replace(\"[\", \"\")\n",
    "strip_chars = strip_chars.replace(\"]\", \"\")\n",
    "\n",
    "vocab_size = 10000\n",
    "sequence_length = 15\n",
    "batch_size = 128"
   ]
  },
  {
   "cell_type": "code",
   "execution_count": 48,
   "metadata": {},
   "outputs": [],
   "source": [
    "def custom_standardization(input_string):\n",
    "    lowercase = tf_strings.lower(input_string)\n",
    "    return tf_strings.regex_replace(lowercase, \"[%s]\" % re.escape(strip_chars), \"\")"
   ]
  },
  {
   "cell_type": "code",
   "execution_count": 49,
   "metadata": {},
   "outputs": [],
   "source": [
    "eng_vectorization = TextVectorization(\n",
    "    max_tokens=vocab_size,\n",
    "    output_mode=\"int\",\n",
    "    output_sequence_length=sequence_length,\n",
    ")"
   ]
  },
  {
   "cell_type": "code",
   "execution_count": 50,
   "metadata": {},
   "outputs": [],
   "source": [
    "ukr_vectorization = TextVectorization(\n",
    "    max_tokens=vocab_size,\n",
    "    output_mode=\"int\",\n",
    "    output_sequence_length=sequence_length + 1,\n",
    "    standardize=custom_standardization,\n",
    ")"
   ]
  },
  {
   "cell_type": "code",
   "execution_count": 51,
   "metadata": {},
   "outputs": [],
   "source": [
    "train_eng_texts = [pair[0] for pair in train_pairs]\n",
    "train_rus_texts = [pair[1] for pair in train_pairs]\n",
    "eng_vectorization.adapt(train_eng_texts)\n",
    "ukr_vectorization.adapt(train_rus_texts)"
   ]
  },
  {
   "cell_type": "markdown",
   "metadata": {},
   "source": [
    "### Форматирование данных"
   ]
  },
  {
   "cell_type": "code",
   "execution_count": 53,
   "metadata": {},
   "outputs": [],
   "source": [
    "def format_dataset(eng, ukr):\n",
    "    eng = eng_vectorization(eng)\n",
    "    ukr = ukr_vectorization(ukr)\n",
    "    return (\n",
    "        {\n",
    "            \"encoder_inputs\": eng,\n",
    "            \"decoder_inputs\": ukr[:, :-1],\n",
    "        },\n",
    "        ukr[:, 1:],\n",
    "    )"
   ]
  },
  {
   "cell_type": "code",
   "execution_count": 55,
   "metadata": {},
   "outputs": [],
   "source": [
    "def make_dataset(pairs):\n",
    "    eng_texts, ukr_texts = zip(*pairs)\n",
    "    eng_texts = list(eng_texts)\n",
    "    ukr_texts = list(ukr_texts)\n",
    "    dataset = tf_data.Dataset.from_tensor_slices((eng_texts, ukr_texts))\n",
    "    dataset = dataset.batch(batch_size)\n",
    "    dataset = dataset.map(format_dataset)\n",
    "    return dataset.cache().shuffle(2048).prefetch(16)"
   ]
  },
  {
   "cell_type": "code",
   "execution_count": 56,
   "metadata": {},
   "outputs": [],
   "source": [
    "train_ds = make_dataset(train_pairs)\n",
    "val_ds = make_dataset(val_pairs)"
   ]
  },
  {
   "cell_type": "code",
   "execution_count": 57,
   "metadata": {},
   "outputs": [
    {
     "name": "stdout",
     "output_type": "stream",
     "text": [
      "inputs[\"encoder_inputs\"].shape: (128, 15)\n",
      "inputs[\"decoder_inputs\"].shape: (128, 15)\n",
      "targets.shape: (128, 15)\n"
     ]
    }
   ],
   "source": [
    "for inputs, targets in train_ds.take(1):\n",
    "    print(f'inputs[\"encoder_inputs\"].shape: {inputs[\"encoder_inputs\"].shape}')\n",
    "    print(f'inputs[\"decoder_inputs\"].shape: {inputs[\"decoder_inputs\"].shape}')\n",
    "    print(f\"targets.shape: {targets.shape}\")"
   ]
  },
  {
   "cell_type": "markdown",
   "metadata": {},
   "source": [
    "## Произвести машинный перевод на основании рекуррентных сетей или трансформеров."
   ]
  },
  {
   "cell_type": "markdown",
   "metadata": {},
   "source": [
    "### Необходимые вычисления"
   ]
  },
  {
   "cell_type": "code",
   "execution_count": 58,
   "metadata": {},
   "outputs": [],
   "source": [
    "class TransformerEncoder(layers.Layer):\n",
    "    def __init__(self, embed_dim, dense_dim, num_heads, **kwargs):\n",
    "        super().__init__(**kwargs)\n",
    "        self.embed_dim = embed_dim\n",
    "        self.dense_dim = dense_dim\n",
    "        self.num_heads = num_heads\n",
    "        self.attention = layers.MultiHeadAttention(\n",
    "            num_heads=num_heads, key_dim=embed_dim\n",
    "        )\n",
    "        self.dense_proj = keras.Sequential(\n",
    "            [\n",
    "                layers.Dense(dense_dim, activation=\"relu\"),\n",
    "                layers.Dense(embed_dim),\n",
    "            ]\n",
    "        )\n",
    "        self.layernorm_1 = layers.LayerNormalization()\n",
    "        self.layernorm_2 = layers.LayerNormalization()\n",
    "        self.supports_masking = True\n",
    "\n",
    "    def call(self, inputs, mask=None):\n",
    "        if mask is not None:\n",
    "            padding_mask = ops.cast(mask[:, None, :], dtype=\"int32\")\n",
    "        else:\n",
    "            padding_mask = None\n",
    "\n",
    "        attention_output = self.attention(\n",
    "            query=inputs, value=inputs, key=inputs, attention_mask=padding_mask\n",
    "        )\n",
    "        proj_input = self.layernorm_1(inputs + attention_output)\n",
    "        proj_output = self.dense_proj(proj_input)\n",
    "        return self.layernorm_2(proj_input + proj_output)\n",
    "\n",
    "    def get_config(self):\n",
    "        config = super().get_config()\n",
    "        config.update(\n",
    "            {\n",
    "                \"embed_dim\": self.embed_dim,\n",
    "                \"dense_dim\": self.dense_dim,\n",
    "                \"num_heads\": self.num_heads,\n",
    "            }\n",
    "        )\n",
    "        return config"
   ]
  },
  {
   "cell_type": "code",
   "execution_count": 59,
   "metadata": {},
   "outputs": [],
   "source": [
    "class PositionalEmbedding(layers.Layer):\n",
    "    def __init__(self, sequence_length, vocab_size, embed_dim, **kwargs):\n",
    "        super().__init__(**kwargs)\n",
    "        self.token_embeddings = layers.Embedding(\n",
    "            input_dim=vocab_size, output_dim=embed_dim\n",
    "        )\n",
    "        self.position_embeddings = layers.Embedding(\n",
    "            input_dim=sequence_length, output_dim=embed_dim\n",
    "        )\n",
    "        self.sequence_length = sequence_length\n",
    "        self.vocab_size = vocab_size\n",
    "        self.embed_dim = embed_dim\n",
    "\n",
    "    def call(self, inputs):\n",
    "        length = ops.shape(inputs)[-1]\n",
    "        positions = ops.arange(0, length, 1)\n",
    "        embedded_tokens = self.token_embeddings(inputs)\n",
    "        embedded_positions = self.position_embeddings(positions)\n",
    "        return embedded_tokens + embedded_positions\n",
    "\n",
    "    def compute_mask(self, inputs, mask=None):\n",
    "        if mask is None:\n",
    "            return None\n",
    "        else:\n",
    "            return ops.not_equal(inputs, 0)\n",
    "\n",
    "    def get_config(self):\n",
    "        config = super().get_config()\n",
    "        config.update(\n",
    "            {\n",
    "                \"sequence_length\": self.sequence_length,\n",
    "                \"vocab_size\": self.vocab_size,\n",
    "                \"embed_dim\": self.embed_dim,\n",
    "            }\n",
    "        )\n",
    "        return config"
   ]
  },
  {
   "cell_type": "code",
   "execution_count": 60,
   "metadata": {},
   "outputs": [],
   "source": [
    "class TransformerDecoder(layers.Layer):\n",
    "    def __init__(self, embed_dim, latent_dim, num_heads, **kwargs):\n",
    "        super().__init__(**kwargs)\n",
    "        self.embed_dim = embed_dim\n",
    "        self.latent_dim = latent_dim\n",
    "        self.num_heads = num_heads\n",
    "        self.attention_1 = layers.MultiHeadAttention(\n",
    "            num_heads=num_heads, key_dim=embed_dim\n",
    "        )\n",
    "        self.attention_2 = layers.MultiHeadAttention(\n",
    "            num_heads=num_heads, key_dim=embed_dim\n",
    "        )\n",
    "        self.dense_proj = keras.Sequential(\n",
    "            [\n",
    "                layers.Dense(latent_dim, activation=\"relu\"),\n",
    "                layers.Dense(embed_dim),\n",
    "            ]\n",
    "        )\n",
    "        self.layernorm_1 = layers.LayerNormalization()\n",
    "        self.layernorm_2 = layers.LayerNormalization()\n",
    "        self.layernorm_3 = layers.LayerNormalization()\n",
    "        self.supports_masking = True\n",
    "\n",
    "    def call(self, inputs, encoder_outputs, mask=None):\n",
    "        causal_mask = self.get_causal_attention_mask(inputs)\n",
    "        if mask is not None:\n",
    "            padding_mask = ops.cast(mask[:, None, :], dtype=\"int32\")\n",
    "            padding_mask = ops.minimum(padding_mask, causal_mask)\n",
    "        else:\n",
    "            padding_mask = None\n",
    "\n",
    "        attention_output_1 = self.attention_1(\n",
    "            query=inputs, value=inputs, key=inputs, attention_mask=causal_mask\n",
    "        )\n",
    "        out_1 = self.layernorm_1(inputs + attention_output_1)\n",
    "\n",
    "        attention_output_2 = self.attention_2(\n",
    "            query=out_1,\n",
    "            value=encoder_outputs,\n",
    "            key=encoder_outputs,\n",
    "            attention_mask=padding_mask,\n",
    "        )\n",
    "        out_2 = self.layernorm_2(out_1 + attention_output_2)\n",
    "\n",
    "        proj_output = self.dense_proj(out_2)\n",
    "        return self.layernorm_3(out_2 + proj_output)\n",
    "\n",
    "    def get_causal_attention_mask(self, inputs):\n",
    "        input_shape = ops.shape(inputs)\n",
    "        batch_size, sequence_length = input_shape[0], input_shape[1]\n",
    "        i = ops.arange(sequence_length)[:, None]\n",
    "        j = ops.arange(sequence_length)\n",
    "        mask = ops.cast(i >= j, dtype=\"int32\")\n",
    "        mask = ops.reshape(mask, (1, input_shape[1], input_shape[1]))\n",
    "        mult = ops.concatenate(\n",
    "            [ops.expand_dims(batch_size, -1), ops.convert_to_tensor([1, 1])],\n",
    "            axis=0,\n",
    "        )\n",
    "        return ops.tile(mask, mult)\n",
    "\n",
    "    def get_config(self):\n",
    "        config = super().get_config()\n",
    "        config.update(\n",
    "            {\n",
    "                \"embed_dim\": self.embed_dim,\n",
    "                \"latent_dim\": self.latent_dim,\n",
    "                \"num_heads\": self.num_heads,\n",
    "            }\n",
    "        )\n",
    "        return config"
   ]
  },
  {
   "cell_type": "code",
   "execution_count": 61,
   "metadata": {},
   "outputs": [],
   "source": [
    "embed_dim = 128\n",
    "latent_dim = 1024\n",
    "num_heads = 8\n",
    "\n",
    "encoder_inputs = keras.Input(shape=(None,), dtype=\"int64\", name=\"encoder_inputs\")\n",
    "x = PositionalEmbedding(sequence_length, vocab_size, embed_dim)(encoder_inputs)\n",
    "encoder_outputs = TransformerEncoder(embed_dim, latent_dim, num_heads)(x)\n",
    "encoder = keras.Model(encoder_inputs, encoder_outputs)\n",
    "\n",
    "decoder_inputs = keras.Input(shape=(None,), dtype=\"int64\", name=\"decoder_inputs\")\n",
    "encoded_seq_inputs = keras.Input(shape=(None, embed_dim), name=\"decoder_state_inputs\")\n",
    "x = PositionalEmbedding(sequence_length, vocab_size, embed_dim)(decoder_inputs)\n",
    "x = TransformerDecoder(embed_dim, latent_dim, num_heads)(x, encoded_seq_inputs)\n",
    "x = layers.Dropout(0.5)(x)\n",
    "decoder_outputs = layers.Dense(vocab_size, activation=\"softmax\")(x)\n",
    "decoder = keras.Model([decoder_inputs, encoded_seq_inputs], decoder_outputs)\n",
    "\n",
    "decoder_outputs = decoder([decoder_inputs, encoder_outputs])\n",
    "transformer = keras.Model(\n",
    "    [encoder_inputs, decoder_inputs], decoder_outputs, name=\"transformer\"\n",
    ")"
   ]
  },
  {
   "cell_type": "code",
   "execution_count": 62,
   "metadata": {},
   "outputs": [
    {
     "data": {
      "text/html": [
       "<pre style=\"white-space:pre;overflow-x:auto;line-height:normal;font-family:Menlo,'DejaVu Sans Mono',consolas,'Courier New',monospace\"><span style=\"font-weight: bold\">Model: \"transformer\"</span>\n",
       "</pre>\n"
      ],
      "text/plain": [
       "\u001b[1mModel: \"transformer\"\u001b[0m\n"
      ]
     },
     "metadata": {},
     "output_type": "display_data"
    },
    {
     "data": {
      "text/html": [
       "<pre style=\"white-space:pre;overflow-x:auto;line-height:normal;font-family:Menlo,'DejaVu Sans Mono',consolas,'Courier New',monospace\">┏━━━━━━━━━━━━━━━━━━━━━┳━━━━━━━━━━━━━━━━━━━┳━━━━━━━━━┳━━━━━━━━━━━━━━━━━━━━━━┓\n",
       "┃<span style=\"font-weight: bold\"> Layer (type)        </span>┃<span style=\"font-weight: bold\"> Output Shape      </span>┃<span style=\"font-weight: bold\"> Param # </span>┃<span style=\"font-weight: bold\"> Connected to         </span>┃\n",
       "┡━━━━━━━━━━━━━━━━━━━━━╇━━━━━━━━━━━━━━━━━━━╇━━━━━━━━━╇━━━━━━━━━━━━━━━━━━━━━━┩\n",
       "│ encoder_inputs      │ (<span style=\"color: #00d7ff; text-decoration-color: #00d7ff\">None</span>, <span style=\"color: #00d7ff; text-decoration-color: #00d7ff\">None</span>)      │       <span style=\"color: #00af00; text-decoration-color: #00af00\">0</span> │ -                    │\n",
       "│ (<span style=\"color: #0087ff; text-decoration-color: #0087ff\">InputLayer</span>)        │                   │         │                      │\n",
       "├─────────────────────┼───────────────────┼─────────┼──────────────────────┤\n",
       "│ positional_embeddi… │ (<span style=\"color: #00d7ff; text-decoration-color: #00d7ff\">None</span>, <span style=\"color: #00d7ff; text-decoration-color: #00d7ff\">None</span>, <span style=\"color: #00af00; text-decoration-color: #00af00\">128</span>) │ <span style=\"color: #00af00; text-decoration-color: #00af00\">1,281,…</span> │ encoder_inputs[<span style=\"color: #00af00; text-decoration-color: #00af00\">0</span>][<span style=\"color: #00af00; text-decoration-color: #00af00\">0</span>] │\n",
       "│ (<span style=\"color: #0087ff; text-decoration-color: #0087ff\">PositionalEmbeddi…</span> │                   │         │                      │\n",
       "├─────────────────────┼───────────────────┼─────────┼──────────────────────┤\n",
       "│ decoder_inputs      │ (<span style=\"color: #00d7ff; text-decoration-color: #00d7ff\">None</span>, <span style=\"color: #00d7ff; text-decoration-color: #00d7ff\">None</span>)      │       <span style=\"color: #00af00; text-decoration-color: #00af00\">0</span> │ -                    │\n",
       "│ (<span style=\"color: #0087ff; text-decoration-color: #0087ff\">InputLayer</span>)        │                   │         │                      │\n",
       "├─────────────────────┼───────────────────┼─────────┼──────────────────────┤\n",
       "│ transformer_encode… │ (<span style=\"color: #00d7ff; text-decoration-color: #00d7ff\">None</span>, <span style=\"color: #00d7ff; text-decoration-color: #00d7ff\">None</span>, <span style=\"color: #00af00; text-decoration-color: #00af00\">128</span>) │ <span style=\"color: #00af00; text-decoration-color: #00af00\">791,296</span> │ positional_embeddin… │\n",
       "│ (<span style=\"color: #0087ff; text-decoration-color: #0087ff\">TransformerEncode…</span> │                   │         │                      │\n",
       "├─────────────────────┼───────────────────┼─────────┼──────────────────────┤\n",
       "│ functional_11       │ (<span style=\"color: #00d7ff; text-decoration-color: #00d7ff\">None</span>, <span style=\"color: #00d7ff; text-decoration-color: #00d7ff\">None</span>,      │ <span style=\"color: #00af00; text-decoration-color: #00af00\">3,890,…</span> │ decoder_inputs[<span style=\"color: #00af00; text-decoration-color: #00af00\">0</span>][<span style=\"color: #00af00; text-decoration-color: #00af00\">0</span>… │\n",
       "│ (<span style=\"color: #0087ff; text-decoration-color: #0087ff\">Functional</span>)        │ <span style=\"color: #00af00; text-decoration-color: #00af00\">10000</span>)            │         │ transformer_encoder… │\n",
       "└─────────────────────┴───────────────────┴─────────┴──────────────────────┘\n",
       "</pre>\n"
      ],
      "text/plain": [
       "┏━━━━━━━━━━━━━━━━━━━━━┳━━━━━━━━━━━━━━━━━━━┳━━━━━━━━━┳━━━━━━━━━━━━━━━━━━━━━━┓\n",
       "┃\u001b[1m \u001b[0m\u001b[1mLayer (type)       \u001b[0m\u001b[1m \u001b[0m┃\u001b[1m \u001b[0m\u001b[1mOutput Shape     \u001b[0m\u001b[1m \u001b[0m┃\u001b[1m \u001b[0m\u001b[1mParam #\u001b[0m\u001b[1m \u001b[0m┃\u001b[1m \u001b[0m\u001b[1mConnected to        \u001b[0m\u001b[1m \u001b[0m┃\n",
       "┡━━━━━━━━━━━━━━━━━━━━━╇━━━━━━━━━━━━━━━━━━━╇━━━━━━━━━╇━━━━━━━━━━━━━━━━━━━━━━┩\n",
       "│ encoder_inputs      │ (\u001b[38;5;45mNone\u001b[0m, \u001b[38;5;45mNone\u001b[0m)      │       \u001b[38;5;34m0\u001b[0m │ -                    │\n",
       "│ (\u001b[38;5;33mInputLayer\u001b[0m)        │                   │         │                      │\n",
       "├─────────────────────┼───────────────────┼─────────┼──────────────────────┤\n",
       "│ positional_embeddi… │ (\u001b[38;5;45mNone\u001b[0m, \u001b[38;5;45mNone\u001b[0m, \u001b[38;5;34m128\u001b[0m) │ \u001b[38;5;34m1,281,…\u001b[0m │ encoder_inputs[\u001b[38;5;34m0\u001b[0m][\u001b[38;5;34m0\u001b[0m] │\n",
       "│ (\u001b[38;5;33mPositionalEmbeddi…\u001b[0m │                   │         │                      │\n",
       "├─────────────────────┼───────────────────┼─────────┼──────────────────────┤\n",
       "│ decoder_inputs      │ (\u001b[38;5;45mNone\u001b[0m, \u001b[38;5;45mNone\u001b[0m)      │       \u001b[38;5;34m0\u001b[0m │ -                    │\n",
       "│ (\u001b[38;5;33mInputLayer\u001b[0m)        │                   │         │                      │\n",
       "├─────────────────────┼───────────────────┼─────────┼──────────────────────┤\n",
       "│ transformer_encode… │ (\u001b[38;5;45mNone\u001b[0m, \u001b[38;5;45mNone\u001b[0m, \u001b[38;5;34m128\u001b[0m) │ \u001b[38;5;34m791,296\u001b[0m │ positional_embeddin… │\n",
       "│ (\u001b[38;5;33mTransformerEncode…\u001b[0m │                   │         │                      │\n",
       "├─────────────────────┼───────────────────┼─────────┼──────────────────────┤\n",
       "│ functional_11       │ (\u001b[38;5;45mNone\u001b[0m, \u001b[38;5;45mNone\u001b[0m,      │ \u001b[38;5;34m3,890,…\u001b[0m │ decoder_inputs[\u001b[38;5;34m0\u001b[0m][\u001b[38;5;34m0\u001b[0m… │\n",
       "│ (\u001b[38;5;33mFunctional\u001b[0m)        │ \u001b[38;5;34m10000\u001b[0m)            │         │ transformer_encoder… │\n",
       "└─────────────────────┴───────────────────┴─────────┴──────────────────────┘\n"
      ]
     },
     "metadata": {},
     "output_type": "display_data"
    },
    {
     "data": {
      "text/html": [
       "<pre style=\"white-space:pre;overflow-x:auto;line-height:normal;font-family:Menlo,'DejaVu Sans Mono',consolas,'Courier New',monospace\"><span style=\"font-weight: bold\"> Total params: </span><span style=\"color: #00af00; text-decoration-color: #00af00\">5,964,176</span> (22.75 MB)\n",
       "</pre>\n"
      ],
      "text/plain": [
       "\u001b[1m Total params: \u001b[0m\u001b[38;5;34m5,964,176\u001b[0m (22.75 MB)\n"
      ]
     },
     "metadata": {},
     "output_type": "display_data"
    },
    {
     "data": {
      "text/html": [
       "<pre style=\"white-space:pre;overflow-x:auto;line-height:normal;font-family:Menlo,'DejaVu Sans Mono',consolas,'Courier New',monospace\"><span style=\"font-weight: bold\"> Trainable params: </span><span style=\"color: #00af00; text-decoration-color: #00af00\">5,964,176</span> (22.75 MB)\n",
       "</pre>\n"
      ],
      "text/plain": [
       "\u001b[1m Trainable params: \u001b[0m\u001b[38;5;34m5,964,176\u001b[0m (22.75 MB)\n"
      ]
     },
     "metadata": {},
     "output_type": "display_data"
    },
    {
     "data": {
      "text/html": [
       "<pre style=\"white-space:pre;overflow-x:auto;line-height:normal;font-family:Menlo,'DejaVu Sans Mono',consolas,'Courier New',monospace\"><span style=\"font-weight: bold\"> Non-trainable params: </span><span style=\"color: #00af00; text-decoration-color: #00af00\">0</span> (0.00 B)\n",
       "</pre>\n"
      ],
      "text/plain": [
       "\u001b[1m Non-trainable params: \u001b[0m\u001b[38;5;34m0\u001b[0m (0.00 B)\n"
      ]
     },
     "metadata": {},
     "output_type": "display_data"
    },
    {
     "name": "stdout",
     "output_type": "stream",
     "text": [
      "\u001b[1m744/744\u001b[0m \u001b[32m━━━━━━━━━━━━━━━━━━━━\u001b[0m\u001b[37m\u001b[0m \u001b[1m815s\u001b[0m 1s/step - accuracy: 0.6923 - loss: 2.7980 - val_accuracy: 0.7832 - val_loss: 1.4689\n"
     ]
    },
    {
     "data": {
      "text/plain": [
       "<keras.src.callbacks.history.History at 0x25f76480fd0>"
      ]
     },
     "execution_count": 62,
     "metadata": {},
     "output_type": "execute_result"
    }
   ],
   "source": [
    "epochs = 1\n",
    "transformer.summary()\n",
    "transformer.compile(\n",
    "    \"rmsprop\", loss=\"sparse_categorical_crossentropy\", metrics=[\"accuracy\"]\n",
    ")\n",
    "transformer.fit(train_ds, epochs=epochs, validation_data=val_ds)"
   ]
  },
  {
   "cell_type": "code",
   "execution_count": 68,
   "metadata": {},
   "outputs": [],
   "source": [
    "ukr_vocab = ukr_vectorization.get_vocabulary()\n",
    "ukr_index_lookup = dict(zip(range(len(ukr_vocab)), ukr_vocab))\n",
    "max_decoded_sentence_length = 20"
   ]
  },
  {
   "cell_type": "markdown",
   "metadata": {},
   "source": [
    "### Результат"
   ]
  },
  {
   "cell_type": "code",
   "execution_count": 69,
   "metadata": {},
   "outputs": [],
   "source": [
    "def decode_sequence(input_sentence):\n",
    "    tokenized_input_sentence = eng_vectorization([input_sentence])\n",
    "    decoded_sentence = \"[start]\"\n",
    "    for i in range(max_decoded_sentence_length):\n",
    "        tokenized_target_sentence = ukr_vectorization([decoded_sentence])[:, :-1]\n",
    "        predictions = transformer([tokenized_input_sentence, tokenized_target_sentence])\n",
    "        sampled_token_index = ops.convert_to_numpy(\n",
    "            ops.argmax(predictions[0, i, :])\n",
    "        ).item(0)\n",
    "        sampled_token = ukr_index_lookup[sampled_token_index]\n",
    "        decoded_sentence += \" \" + sampled_token\n",
    "        if sampled_token == \"[end]\":\n",
    "            break\n",
    "    return decoded_sentence"
   ]
  },
  {
   "cell_type": "code",
   "execution_count": 70,
   "metadata": {},
   "outputs": [
    {
     "name": "stdout",
     "output_type": "stream",
     "text": [
      "Why didn't anyone stop Tom? [start] Чому не [UNK] Тома [end]\n",
      "I think that Tom is high. [start] Я думаю що Том [UNK] [end]\n",
      "I appreciate your comment. [start] Я [UNK] [UNK] [end]\n",
      "This cheese is too expensive. [start] Це дуже [UNK] [end]\n",
      "Tom headed back to Boston. [start] Том [UNK] на мене [end]\n",
      "Why do you dislike Tom so much? [start] Чому ти не можу би це [UNK] [end]\n",
      "Tom broke his new smartphone. [start] Том [UNK] [UNK] [end]\n",
      "I've made my choice. [start] Я [UNK] [UNK] [end]\n",
      "I can't remember where I put my umbrella. [start] Я не можу би би би би бути [UNK] [end]\n",
      "Why are we fighting? [start] Чому я [UNK] [end]\n",
      "Not all rabbits have long ears. [start] Не [UNK] [UNK] [end]\n",
      "The moon is already out. [start] [UNK] не [UNK] [end]\n",
      "Were you working last year? [start] Ми можемо [UNK] [end]\n",
      "Tom can go tomorrow. [start] Том хотів би це зробити [end]\n",
      "My older sister is good at singing. [start] [UNK] [UNK] [UNK] [UNK] [end]\n",
      "He built a new house. [start] Він [UNK] [UNK] [end]\n",
      "I'm aware that you failed. [start] Я думаю що ти не [UNK] [end]\n",
      "She's practicing English so she can get a better job. [start] Вона [UNK] [UNK] [UNK] [UNK] [end]\n",
      "I know neither of them. [start] Я знаю що не [UNK] [end]\n",
      "Did you remember to water the plants? [start] Ти маєш [UNK] [end]\n",
      "I'm all yours. [start] Я [UNK] [end]\n",
      "Tom will teach you how to do that. [start] Том тебе хотів це зробити [end]\n",
      "Why didn't you use a pay phone? [start] Чому ти не [UNK] [end]\n",
      "I wasn't expecting visitors. [start] Я не [UNK] [end]\n",
      "Tom said he cried all night. [start] Том сказав що він дуже добре [UNK] [end]\n",
      "Tom told me he was very busy. [start] Том сказав мені що я не [UNK] [end]\n",
      "I'm friends with Tom's brother. [start] Я [UNK] Тома [end]\n",
      "What kind of church is this? [start] Що у тебе [UNK] [end]\n",
      "Don't insult me, Tom. [start] Не [UNK] мені [end]\n",
      "You're the best. [start] Ти [UNK] [end]\n"
     ]
    }
   ],
   "source": [
    "test_eng_texts = [pair[0] for pair in test_pairs]\n",
    "for _ in range(30):\n",
    "    input_sentence = random.choice(test_eng_texts)\n",
    "    translated = decode_sequence(input_sentence)\n",
    "    print(input_sentence, translated)"
   ]
  }
 ],
 "metadata": {
  "kernelspec": {
   "display_name": "Python 3",
   "language": "python",
   "name": "python3"
  },
  "language_info": {
   "codemirror_mode": {
    "name": "ipython",
    "version": 3
   },
   "file_extension": ".py",
   "mimetype": "text/x-python",
   "name": "python",
   "nbconvert_exporter": "python",
   "pygments_lexer": "ipython3",
   "version": "3.11.7"
  }
 },
 "nbformat": 4,
 "nbformat_minor": 2
}
